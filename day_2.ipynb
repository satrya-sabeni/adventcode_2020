{
 "cells": [
  {
   "cell_type": "code",
   "execution_count": 1,
   "metadata": {},
   "outputs": [],
   "source": []
  },
  {
   "cell_type": "code",
   "execution_count": 6,
   "metadata": {},
   "outputs": [],
   "source": [
    "with open('./input/input_day2.txt') as file:\n",
    "    passwords = file.read().splitlines()"
   ]
  },
  {
   "cell_type": "code",
   "execution_count": 8,
   "metadata": {},
   "outputs": [
    {
     "data": {
      "text/plain": [
       "['3-4 t: dttt',\n",
       " '5-7 l: llmlqmblllh',\n",
       " '3-10 g: gggxwxggggkgglklhhgg',\n",
       " '5-7 d: zxhddvxd',\n",
       " '5-12 s: sgscssssphxs',\n",
       " '3-4 b: lbbbbntqswsv',\n",
       " '1-11 h: hhhhchhhhjhph',\n",
       " '10-16 c: ccccqccchcccccjlc',\n",
       " '10-11 b: bsbdbblbbjbbbb',\n",
       " '3-5 j: jjrjfqz']"
      ]
     },
     "execution_count": 8,
     "metadata": {},
     "output_type": "execute_result"
    }
   ],
   "source": [
    "passwords[:10]"
   ]
  },
  {
   "cell_type": "code",
   "execution_count": 27,
   "metadata": {},
   "outputs": [
    {
     "name": "stdout",
     "output_type": "stream",
     "text": [
      "zxhddvxd 5-7 d\n",
      "ccccqccchcccccjlc 10-16 c\n",
      "bsbdbblbbjbbbb 10-11 b\n",
      "qqhqdzjqsc 4-7 q\n",
      "xvvzvnp 5-6 v\n",
      "cxccxcccglccs 7-13 c\n",
      "kckpcpgccvmznrccc 6-9 c\n",
      "xxxgxxkxgxxxxxtxbxkx 11-15 x\n",
      "wdqptjk 1-4 w\n",
      "zzzzczzztzz 9-11 z\n",
      "shbfspgszs 2-5 s\n",
      "wvwwwqdwww 6-10 w\n",
      "kcccqvfccvrcdc 2-11 c\n",
      "gggggdg 6-7 g\n",
      "zzzzzgz 6-7 z\n",
      "dckmrxgndprxlh 1-5 r\n",
      "hhhhhhhhhhhhphd 14-15 h\n",
      "rhrrf 3-5 r\n",
      "nbnnnnnnlnnrnnnngn 12-15 n\n",
      "bnvvvp 4-6 v\n",
      "znlrnnzgzmjsznzszh 4-13 z\n",
      "ccgcccccc 3-9 c\n",
      "vqbcqqhzqqgqjnqbqkm 8-9 q\n",
      "wwwtbwzwtwww 7-10 w\n",
      "wzcwvfrtdv 2-4 w\n",
      "fmljlbmlllfl 7-12 l\n",
      "wfhpfdxbjwvwtg 11-14 v\n",
      "ttttttttttttftt 10-13 t\n",
      "bpqhvcmvm 4-8 v\n",
      "qqqpq 4-5 q\n",
      "ppppqppppdpp 8-10 p\n",
      "gggsxg 5-6 g\n",
      "jkjjjjjjjjjjjjjjjjj 2-13 j\n",
      "ttfrtftt 6-8 t\n",
      "xcqbkmhzxlgswkqkc 4-15 q\n",
      "hhhhswhhhh 2-5 h\n",
      "kkkkkkkhkkkkkkvksk 14-15 k\n",
      "bbbxbbb 4-5 b\n",
      "ppxc 2-4 p\n",
      "jjjjjjjgj 8-9 j\n",
      "llllllqlllllhrlllxl 14-16 l\n",
      "wqqddnzfsblvcjldq 1-3 q\n",
      "zdcndblvd 3-9 d\n",
      "mbmmwmmmmmmmm 5-8 m\n",
      "qqqh 2-4 q\n",
      "vvvvvkv 4-6 v\n",
      "jjjd 1-4 j\n",
      "zlmtdmtz 2-4 t\n",
      "dkmpgqkzqwqjjqqd 15-16 q\n",
      "vdstlpdzx 2-3 d\n",
      "jsmjjjj 2-4 j\n",
      "gggf 3-4 g\n",
      "hgpzzzzzzczznwkvzz 11-14 z\n",
      "zzzzzzzzzr 9-10 z\n",
      "tkkllllllllp 3-5 l\n",
      "wwkttt 2-4 t\n",
      "mmwmjmnfmm 5-9 m\n",
      "mkdxsfxxjxj 3-4 x\n",
      "wwwwwwwdtt 7-8 w\n",
      "bbbdh 3-4 b\n",
      "qnkhcnmnfnnrcn 7-14 n\n",
      "zbvvwvvvvvvdxvvvvv 12-18 v\n",
      "sgtsrs 1-3 s\n",
      "vvvvvvvvvlvvvvvvrvv 12-17 v\n",
      "qqqqqqqqqqqqk 4-13 q\n",
      "wxwwwwwwwwwwm 5-13 w\n",
      "jnjvnxck 1-2 j\n",
      "bbbbbbbmbbpbzblbbb 10-11 b\n",
      "bpppppppppppppppppp 1-17 p\n",
      "lnmqwfvpbdzkmlqzbfg 3-16 z\n",
      "ktbklkmxkdk 1-7 k\n",
      "vtttctdttttptt 9-12 t\n",
      "wckkcwmkpxldc 3-7 k\n",
      "gmrzrvjct 3-8 r\n",
      "llllfltpsl 3-7 l\n",
      "rnzpp 2-5 p\n",
      "wkwwwwnwwwwwfw 12-13 w\n",
      "sbbbh 3-5 b\n",
      "phhtkhdhdhpfrjwh 14-16 h\n",
      "dddgdjddpddxdbbndfd 15-19 d\n",
      "bdhtwd 3-6 d\n",
      "bppsmwtqpxpfppqczpkw 7-13 p\n",
      "nwhzwwjwcjgwwwnfwwwj 8-10 w\n",
      "gglkkgxkt 6-9 g\n",
      "gqdmlmxxldklkmdlngdh 2-3 d\n",
      "ppjppxppppp 6-11 p\n",
      "bhbbbbqqbbbbbbb 7-11 b\n",
      "wfwwwdwwrwwxbw 10-13 w\n",
      "hhjhhk 2-6 h\n",
      "xnzzlzzzztzzz 9-10 z\n",
      "qqqqqqqqnq 7-9 q\n",
      "ppppppppppppppppqpp 11-17 p\n",
      "wwptwwfltwbwww 8-12 w\n",
      "kkbskkgkc 4-8 k\n",
      "bppqxptcpq 3-4 p\n",
      "cxxxdfxtxrxxxx 8-9 x\n",
      "fffffffrffff 8-12 f\n",
      "ccccczn 4-7 c\n",
      "fzcvnxcccckccctc 5-14 c\n",
      "pkstjpkqvnnglxgkwffx 2-12 k\n",
      "djjgb 2-5 j\n",
      "mbfgqrfrhtlxddnfcxj 6-13 d\n",
      "wwwwwwmpwwwdwlwwwrx 10-14 w\n",
      "glbffbbtff 7-9 f\n",
      "lllllxlllllnlllldls 16-19 l\n",
      "plllg 4-5 l\n",
      "wrww 1-2 w\n",
      "rwlvdlschqsbrzg 2-15 g\n",
      "rddddddd 1-7 d\n",
      "krtcnqklsw 1-3 k\n",
      "kjkkkwkknkkkkk 9-12 k\n",
      "mnnxrnln 5-8 n\n",
      "lrlrlfflbllwklbcqd 3-6 l\n",
      "srssssssw 2-7 s\n",
      "vxgbmptxxxsxxp 13-14 x\n",
      "rtttt 1-3 t\n",
      "qxqqsqq 5-6 q\n",
      "llllllllllllm 10-13 l\n",
      "mgvcvfrdrfdddk 4-12 d\n",
      "qqqqqqqqqqqqgqqqqq 13-17 q\n",
      "lrtjw 1-3 t\n",
      "bbbbbbbbbbbbbbbzbbb 16-19 b\n",
      "phpsppwpjppsppppppp 12-14 p\n",
      "ptkhqsztgjqrfqzd 2-6 s\n",
      "ppsjptpfppqkpv 4-13 p\n",
      "rrvrrrrkrrrrrfzrrmz 14-16 r\n",
      "bpdkkghmqhhv 11-12 h\n",
      "bvvvvvvvvvvmv 11-12 v\n",
      "xzxmdxzxx 3-4 x\n",
      "vvvvvhvvcv 7-9 v\n",
      "zzzsz 4-5 z\n",
      "snmtntgglhrghnprpcv 2-6 t\n",
      "ccccccccccccccjsc 13-15 c\n",
      "jzjjjjjjj 2-8 j\n",
      "nnxqdnnnmnnnnpnn 5-11 n\n",
      "xxxxxxlxxxgxx 8-11 x\n",
      "gggcghggmglhglggx 7-11 g\n",
      "kcwcjcrtchccmgdsdkc 6-16 c\n",
      "nnnsxmjlvznn 2-5 n\n",
      "rrrzwhrhrm 4-7 r\n",
      "sqkgkm 4-5 k\n",
      "hzzwzzzzzzrzzzz 11-15 z\n",
      "lvlnjnjgnb 9-10 n\n",
      "hvsvcvmbbgjbncgdpq 3-12 b\n",
      "vvvzvvvvvvvvvvwv 15-16 v\n",
      "qqqqqqwtqq 8-9 q\n",
      "glzjkx 4-5 k\n",
      "fjfdqhq 2-7 j\n",
      "ssnwsssfm 6-9 s\n",
      "rrrrfwrprrrtrrrcrrr 16-17 r\n",
      "fcczfsxvcbmcwktn 3-11 c\n",
      "qllcllll 4-6 l\n",
      "hhkhhhwhhhhh 7-10 h\n",
      "xxdxxxxxmxxx 4-9 x\n",
      "jgtdt 1-2 g\n",
      "nbqpbgmbhfwbbbzbnb 3-12 b\n",
      "kqpkvpnqxgvxwxxmbnh 12-16 x\n",
      "pkmkjkkkhgkkbkkmksd 9-14 k\n",
      "rrkfrgtrrkhrw 7-9 r\n",
      "qnqqqqqqqqqqqqq 2-14 q\n",
      "rjjjjkjjjjjrjj 11-12 j\n",
      "spgkbpghbfmnhl 2-4 p\n",
      "cccckccxc 8-9 c\n",
      "qqqmq 3-4 q\n",
      "szpsz 1-5 s\n",
      "wffffffffffffnf 14-15 f\n",
      "bsrkmkwrwzsrv 12-13 r\n",
      "ddddddddddddcddqd 12-16 d\n",
      "qhhbvhhhhhw 5-8 h\n",
      "hmcgnhmvwmrcqhkht 6-8 h\n",
      "grgggg 2-6 g\n",
      "mhkkkkkgskkwrfkvkkkd 5-14 k\n",
      "jjjzjj 4-6 j\n",
      "xhxxxxxxxxxxxdvbx 16-17 x\n",
      "rwrrkrrrrr 2-8 r\n",
      "clhbgqrkfsmnjmfxszq 18-19 q\n",
      "xctnxg 5-6 x\n",
      "ppppppppppr 8-11 p\n",
      "vrnjjjmjpjnkrdjckx 5-12 j\n",
      "jbjwjjjmjnqjjjj 9-11 j\n",
      "jjjjjjjljj 8-9 j\n",
      "sqvjzdswcchfczvvq 1-14 z\n",
      "wshsspkcdnbcjcvl 2-9 s\n",
      "fcffpffrdfkfh 9-10 f\n",
      "jjjjjjjjjbj 9-10 j\n",
      "vvfrldv 6-7 v\n",
      "vcbpcclzmn 6-10 c\n",
      "nnnnnnzngn 9-10 n\n",
      "zfzzzhz 4-6 z\n",
      "qqqqqqqqcqqqbqqmqq 16-17 q\n",
      "fffmrjfhnfbpcmcj 3-4 f\n",
      "wwwwwwwwwwwwhwwwwwwl 19-20 w\n",
      "ggwgg 3-5 g\n",
      "ssqsxs 4-5 s\n",
      "kxwwwwwwwwfjrw 6-13 w\n",
      "mmmmmmkmmmmmn 12-13 m\n",
      "pwtwglmqrfmfrsfwm 3-7 m\n",
      "sjjvtjsgjgdfzjjsjst 6-19 j\n",
      "qnsjqwfqqzqgqdq 7-8 q\n",
      "rrlrhlw 6-7 l\n",
      "swszthj 1-7 s\n",
      "kwvqkwwwww 5-6 w\n",
      "zzzzzzzzzbz 5-10 z\n",
      "lckxdfblllccqlbll 4-17 l\n",
      "vbccrljmccdcccccf 6-12 c\n",
      "zzzzzzzzjzlzzz 11-12 z\n",
      "tttttrtttttcttvbl 12-13 t\n",
      "dxgldtdld 1-6 d\n",
      "ttdsttjttvclttgtt 4-9 t\n",
      "xgtztttqtttttt 6-8 t\n",
      "nngnnnnd 7-8 n\n",
      "gdddmdhbv 4-9 d\n",
      "vvvvvwv 6-7 v\n",
      "ffffmffplgfmhwff 10-16 f\n",
      "pkkbrdhfttjdfd 8-14 d\n",
      "zxtdddnmntxvknbwdc 6-15 d\n",
      "jjjjjjjdj 8-9 j\n",
      "fgwfffdfgffntfbfffft 13-17 f\n",
      "kkrp 2-4 k\n",
      "wwwk 1-4 w\n",
      "nnngn 2-4 n\n",
      "cckdnz 2-6 c\n",
      "swwvwwwdszwwwwww 7-9 w\n",
      "vvvxvvvvvvvvvvvvhxvv 4-20 v\n",
      "sssssssssssshs 11-13 s\n",
      "rwhrfbpcwmzjtfjrrr 11-18 r\n",
      "jjjjjjjjjzjjjj 10-13 j\n",
      "jjqj 1-3 j\n",
      "gggggggvg 8-9 g\n",
      "lqkklp 5-6 l\n",
      "bbmbpb 2-5 b\n",
      "jjjjnj 5-6 j\n",
      "mknpnnmcbvt 1-4 m\n",
      "llllslnllx 9-10 l\n",
      "hhhg 2-4 h\n",
      "llllllllllllllllllf 14-19 l\n",
      "hhkhhhhhhhhhht 12-14 h\n",
      "xkvrwzwwl 1-5 w\n",
      "wjjzjsj 2-4 j\n",
      "hhhhhxhxhhmjh 3-11 h\n",
      "jjjjc 4-5 j\n",
      "kwxnnrxhxh 3-5 x\n",
      "gfggzghggmg 4-5 g\n",
      "lllllllllrl 10-11 l\n",
      "xxxxxxtxxxwx 11-12 x\n",
      "bbbbbbbbxbbjb 11-12 b\n",
      "bbbbbbbrj 7-8 b\n",
      "qnqqv 4-5 q\n",
      "qqxgmj 1-6 q\n",
      "djnfvjdkddddddtd 7-15 d\n",
      "mlljlqvfshdltbwbql 5-6 l\n",
      "fffwf 4-5 f\n",
      "pbtdgxbvqdkrmpz 4-7 b\n",
      "ccctc 3-4 c\n",
      "zzzbw 3-4 z\n",
      "fffffpffffw 10-11 f\n",
      "gnnnnntvggnwn 7-13 n\n",
      "qkqqqqqqqqlqqcvqq 12-15 q\n",
      "jjjjjjjjjtjmjjvjjj 15-16 j\n",
      "xxxt 1-4 x\n",
      "xwxkmm 1-2 x\n",
      "gzztzzzjzjzz 8-9 z\n",
      "pzqkvvvvvgvxvvvzvvmp 10-14 v\n",
      "kkkjkkkqkkkkkbkk 1-8 k\n",
      "hqhhhjthqphhbhhgppp 5-7 h\n",
      "zdkkkwkkvskf 7-9 k\n",
      "mmmmmmmmlmmrmm 12-13 m\n",
      "wjmjfjjjfqjjjmjjlj 9-15 j\n",
      "qdfwlrwxpqjsrdg 12-13 r\n",
      "mmzmkmvmmlm 7-9 m\n",
      "kpkkkbbkdknkkkd 9-10 k\n",
      "gggggggggfgn 11-12 g\n",
      "fqrtz 1-2 f\n",
      "rwbfnkrmmttmn 4-12 m\n",
      "rjgsstrzjmhqcrcccmg 3-17 c\n",
      "cbbfcd 2-5 b\n",
      "rhsrktwlkbmgs 1-5 r\n",
      "kkkkkwk 2-6 k\n",
      "cxrddddddfddrqt 2-5 d\n",
      "nktnn 1-2 n\n",
      "cccccchc 4-7 c\n",
      "vbwfxffmjfxjrdffwfxz 14-16 f\n",
      "zzhzzzvrzdh 6-10 z\n",
      "ggtkmmzz 3-7 z\n",
      "pdvqvvsvvrfvvmxpfq 6-7 v\n",
      "dhpn 1-4 n\n",
      "ppcppppppppn 11-12 p\n",
      "bssdfwzspgjdglxnhqrb 18-20 b\n",
      "ffmffffwfffpfffff 12-14 f\n",
      "kkkkm 2-5 k\n",
      "czpccccbbbcccc 9-12 c\n",
      "thtttcgttttttmntct 7-13 t\n",
      "jwjtzwjwwwwwb 12-13 w\n",
      "nnpnnnnnwjnghnfnxknn 13-16 n\n",
      "fxtx 2-3 x\n",
      "mqpgsdvdsfdqgx 2-9 q\n",
      "hghrhhhhhhhhzh 13-14 h\n",
      "xxxs 3-4 x\n",
      "hhhhhhrhhhhlghvhkhh 15-16 h\n",
      "lllldl 5-6 l\n",
      "gtflt 1-5 t\n",
      "sssvnsztsssdsssps 8-13 s\n",
      "xstt 2-4 t\n",
      "wkkkkkkhkkkkkkkfgq 5-18 k\n",
      "mkmmmmggmczwmmlmmm 8-13 m\n",
      "ffffffffffffnf 7-13 f\n",
      "nnnnhnnnn 5-8 n\n",
      "jjjmjjjjjjxjd 11-12 j\n",
      "vjbxxxxmxxxrxwmsxxxx 1-18 x\n",
      "fbffjxfszffg 7-9 f\n",
      "jhxpppcppphpppppp 11-14 p\n",
      "sssslk 3-5 s\n",
      "swlsssssdsksvssspz 12-18 s\n",
      "nqfkd 2-4 k\n",
      "msxnwjwdqkssm 5-13 m\n",
      "kkkkkkgk 3-7 k\n",
      "wwwwwghwwwwwwwcw 14-15 w\n",
      "sdsbwzzssssssssxc 9-16 s\n",
      "tkkkkkkkkkkkkkkkkkk 1-16 k\n",
      "ttcx 2-3 t\n",
      "drrvzhrrgqfrfr 7-11 r\n",
      "vqzbqzqqfqhdrncgpptk 4-10 q\n",
      "gfkxlbmczmzbhgl 5-13 l\n",
      "nqqqqqqgqqqq 8-10 q\n",
      "kkkszl 3-5 k\n",
      "hhfhh 3-4 h\n",
      "knnnnnnnnn 1-7 n\n",
      "fffffblffcffffd 3-10 f\n",
      "sszdsvss 5-6 s\n",
      "lshsslsslsss 3-8 s\n",
      "npfbgvsgbmg 10-11 g\n",
      "vwwwxwwkgw 6-8 w\n",
      "bbbbbbmbbw 8-10 b\n",
      "bpqpbbldbqwbwc 9-14 b\n",
      "ffsv 1-3 f\n",
      "xxmxwpxxxxxxlhxxxxx 9-13 x\n",
      "thnkhhl 1-2 h\n",
      "bbbbbbbnxb 5-8 b\n",
      "mpmmmmmmmmmmmmmmmwmm 18-19 m\n",
      "ffffffjfbffffqf 9-12 f\n",
      "wqqqqqqqqqqqq 1-12 q\n",
      "cccccqccccchc 12-13 c\n",
      "lqsg 2-4 g\n",
      "zgzzzhzzkwzzzzpzhzz 10-14 z\n",
      "pbwwwq 1-3 w\n",
      "xtxrb 3-4 x\n",
      "nnnwqjknqf 3-4 n\n",
      "snssj 4-5 s\n",
      "tkfff 2-5 f\n",
      "bxjdfdk 3-6 d\n",
      "gggwgjlvmqgdgfg 4-13 g\n",
      "hhhhhhhhhhhhhjh 14-15 h\n"
     ]
    }
   ],
   "source": [
    "valids = 0\n",
    "for p in passwords:\n",
    "    pw = p.split(':')[1][1:]\n",
    "    amts = p.split(':')[0].split(' ')[0]\n",
    "    letter = p.split(':')[0].split(' ')[1]\n",
    "    \n",
    "    pos_1 = int(amts.split('-')[0]) - 1\n",
    "    pos_2 = int(amts.split('-')[1]) - 1\n",
    "    \n",
    "    #occur = pw.count(letter)\n",
    "    \n",
    "    if (pw[pos_1] == letter) and (pw[pos_2] == letter):\n",
    "        continue\n",
    "        \n",
    "    if (pw[pos_1] != letter) and (pw[pos_2] != letter):\n",
    "        continue\n",
    "    \n",
    "    valids += 1\n",
    "    print(pw, amts, letter)"
   ]
  },
  {
   "cell_type": "code",
   "execution_count": 28,
   "metadata": {},
   "outputs": [
    {
     "data": {
      "text/plain": [
       "352"
      ]
     },
     "execution_count": 28,
     "metadata": {},
     "output_type": "execute_result"
    }
   ],
   "source": [
    "valids"
   ]
  },
  {
   "cell_type": "code",
   "execution_count": 17,
   "metadata": {},
   "outputs": [
    {
     "data": {
      "text/plain": [
       "1"
      ]
     },
     "execution_count": 17,
     "metadata": {},
     "output_type": "execute_result"
    }
   ],
   "source": [
    "'dfefsaf'.count('a')"
   ]
  },
  {
   "cell_type": "markdown",
   "metadata": {},
   "source": [
    "## day 1"
   ]
  },
  {
   "cell_type": "code",
   "execution_count": 32,
   "metadata": {},
   "outputs": [],
   "source": [
    "with open('input/input_day1.txt') as file:\n",
    "    expense = file.read().splitlines()"
   ]
  },
  {
   "cell_type": "code",
   "execution_count": 34,
   "metadata": {},
   "outputs": [],
   "source": [
    "expense = [int(i) for i in expense]"
   ]
  },
  {
   "cell_type": "code",
   "execution_count": 39,
   "metadata": {},
   "outputs": [],
   "source": [
    "matches = {}\n",
    "for k, exp in enumerate(expense):\n",
    "    checklist = expense[0:k] + expense[(k+1):]\n",
    "    for k, check in enumerate(checklist):\n",
    "        if exp + check == 2020: \n",
    "            matches[exp] = check "
   ]
  },
  {
   "cell_type": "code",
   "execution_count": 40,
   "metadata": {},
   "outputs": [
    {
     "data": {
      "text/plain": [
       "{1373: 647, 647: 1373}"
      ]
     },
     "execution_count": 40,
     "metadata": {},
     "output_type": "execute_result"
    }
   ],
   "source": [
    "matches"
   ]
  },
  {
   "cell_type": "code",
   "execution_count": 42,
   "metadata": {},
   "outputs": [
    {
     "data": {
      "text/plain": [
       "888331"
      ]
     },
     "execution_count": 42,
     "metadata": {},
     "output_type": "execute_result"
    }
   ],
   "source": [
    "1373 * 647"
   ]
  },
  {
   "cell_type": "markdown",
   "metadata": {},
   "source": [
    "#### part 2"
   ]
  },
  {
   "cell_type": "code",
   "execution_count": 49,
   "metadata": {},
   "outputs": [],
   "source": [
    "matches = []\n",
    "for k, exp in enumerate(expense):\n",
    "    \n",
    "    checklist1 = expense[0:k] + expense[(k+1):]\n",
    "\n",
    "    for k, check1 in enumerate(checklist1):\n",
    "        if check1 + exp > 2020:\n",
    "            continue\n",
    "            \n",
    "        checklist2 = checklist1[0:k] + checklist1[(k+1):]\n",
    "\n",
    "        for k, check2 in enumerate(checklist2):\n",
    "            if check1 + check2 == (2020 - exp): \n",
    "                \n",
    "                matches.append(exp)\n",
    "                matches.append(check1)\n",
    "                matches.append(check2)"
   ]
  },
  {
   "cell_type": "code",
   "execution_count": 50,
   "metadata": {},
   "outputs": [
    {
     "data": {
      "text/plain": [
       "[511,\n",
       " 195,\n",
       " 1314,\n",
       " 511,\n",
       " 1314,\n",
       " 195,\n",
       " 195,\n",
       " 511,\n",
       " 1314,\n",
       " 195,\n",
       " 1314,\n",
       " 511,\n",
       " 1314,\n",
       " 511,\n",
       " 195,\n",
       " 1314,\n",
       " 195,\n",
       " 511]"
      ]
     },
     "execution_count": 50,
     "metadata": {},
     "output_type": "execute_result"
    }
   ],
   "source": [
    "matches"
   ]
  },
  {
   "cell_type": "code",
   "execution_count": 52,
   "metadata": {},
   "outputs": [
    {
     "data": {
      "text/plain": [
       "130933530"
      ]
     },
     "execution_count": 52,
     "metadata": {},
     "output_type": "execute_result"
    }
   ],
   "source": [
    "1314 * 195 * 511"
   ]
  },
  {
   "cell_type": "code",
   "execution_count": null,
   "metadata": {},
   "outputs": [],
   "source": []
  }
 ],
 "metadata": {
  "kernelspec": {
   "display_name": "Python 3",
   "language": "python",
   "name": "python3"
  },
  "language_info": {
   "codemirror_mode": {
    "name": "ipython",
    "version": 3
   },
   "file_extension": ".py",
   "mimetype": "text/x-python",
   "name": "python",
   "nbconvert_exporter": "python",
   "pygments_lexer": "ipython3",
   "version": "3.7.4"
  }
 },
 "nbformat": 4,
 "nbformat_minor": 4
}
