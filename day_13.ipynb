{
 "cells": [
  {
   "cell_type": "code",
   "execution_count": 49,
   "metadata": {},
   "outputs": [],
   "source": [
    "inp = '13,x,x,41,x,x,x,37,x,x,x,x,x,659,x,x,x,x,x,x,x,x,x,x,x,x,x,x,x,x,x,x,19,x,x,x,23,x,x,x,x,x,29,x,409,x,x,x,x,x,x,x,x,x,x,x,x,x,x,x,x,17'\n",
    "inp = inp.split(',')"
   ]
  },
  {
   "cell_type": "code",
   "execution_count": null,
   "metadata": {},
   "outputs": [],
   "source": []
  },
  {
   "cell_type": "code",
   "execution_count": 9,
   "metadata": {},
   "outputs": [],
   "source": [
    "inx = list(filter(lambda x: x != 'x', inp))\n",
    "inx = [int(x) for x in inx]"
   ]
  },
  {
   "cell_type": "code",
   "execution_count": 10,
   "metadata": {},
   "outputs": [
    {
     "data": {
      "text/plain": [
       "[13, 41, 37, 659, 19, 23, 29, 409, 17]"
      ]
     },
     "execution_count": 10,
     "metadata": {},
     "output_type": "execute_result"
    }
   ],
   "source": [
    "inx"
   ]
  },
  {
   "cell_type": "code",
   "execution_count": 24,
   "metadata": {},
   "outputs": [
    {
     "name": "stdout",
     "output_type": "stream",
     "text": [
      "[False, True, False, False, False, False, False, False, False]\n"
     ]
    }
   ],
   "source": [
    "found = False\n",
    "check = 1000066 \n",
    "\n",
    "while found == False:\n",
    "    checkr = any([(check / x) % 1 == 0 for x in inx])\n",
    "    if checkr == True:\n",
    "        found = True\n",
    "        print([(check / x) % 1 == 0 for x in inx])\n",
    "    \n",
    "    check += 1"
   ]
  },
  {
   "cell_type": "code",
   "execution_count": 17,
   "metadata": {},
   "outputs": [
    {
     "name": "stdout",
     "output_type": "stream",
     "text": [
      "[False, False, False, False, False, False, False, False, False]\n"
     ]
    }
   ],
   "source": [
    "print([(check / x) % 1 == 0 for x in inx])"
   ]
  },
  {
   "cell_type": "code",
   "execution_count": 20,
   "metadata": {},
   "outputs": [
    {
     "data": {
      "text/plain": [
       "17011424"
      ]
     },
     "execution_count": 20,
     "metadata": {},
     "output_type": "execute_result"
    }
   ],
   "source": [
    "check * 17"
   ]
  },
  {
   "cell_type": "code",
   "execution_count": 26,
   "metadata": {},
   "outputs": [
    {
     "data": {
      "text/plain": [
       "246"
      ]
     },
     "execution_count": 26,
     "metadata": {},
     "output_type": "execute_result"
    }
   ],
   "source": [
    "((check-1) - 1000066) * 41"
   ]
  },
  {
   "cell_type": "code",
   "execution_count": 22,
   "metadata": {},
   "outputs": [
    {
     "data": {
      "text/plain": [
       "17011407"
      ]
     },
     "execution_count": 22,
     "metadata": {},
     "output_type": "execute_result"
    }
   ],
   "source": [
    "1000671 * 17"
   ]
  },
  {
   "cell_type": "code",
   "execution_count": 25,
   "metadata": {},
   "outputs": [
    {
     "data": {
      "text/plain": [
       "1000073"
      ]
     },
     "execution_count": 25,
     "metadata": {},
     "output_type": "execute_result"
    }
   ],
   "source": [
    "check"
   ]
  },
  {
   "cell_type": "code",
   "execution_count": null,
   "metadata": {},
   "outputs": [],
   "source": [
    "# 17,x,13,19 is 3417.\n",
    "\n",
    "x = [0,1,2,3]\n",
    "\n",
    "match = False\n",
    "\n",
    "while match == False:\n",
    "    [int(v) + for x,v in zip(x, vals) if v != 'x']"
   ]
  },
  {
   "cell_type": "code",
   "execution_count": 29,
   "metadata": {},
   "outputs": [
    {
     "data": {
      "text/plain": [
       "180.0"
      ]
     },
     "execution_count": 29,
     "metadata": {},
     "output_type": "execute_result"
    }
   ],
   "source": [
    "3420 / 19"
   ]
  },
  {
   "cell_type": "code",
   "execution_count": 120,
   "metadata": {},
   "outputs": [],
   "source": [
    "#inp2 =['17','x','13','19']\n",
    "inp2 = [1789,37,47,1889]\n",
    "intervals = [0,1,2,3]"
   ]
  },
  {
   "cell_type": "code",
   "execution_count": 179,
   "metadata": {},
   "outputs": [],
   "source": [
    "intervals = [i for i in range(len(inp))]"
   ]
  },
  {
   "cell_type": "code",
   "execution_count": 180,
   "metadata": {
    "collapsed": true,
    "jupyter": {
     "outputs_hidden": true
    }
   },
   "outputs": [
    {
     "data": {
      "text/plain": [
       "[0,\n",
       " 1,\n",
       " 2,\n",
       " 3,\n",
       " 4,\n",
       " 5,\n",
       " 6,\n",
       " 7,\n",
       " 8,\n",
       " 9,\n",
       " 10,\n",
       " 11,\n",
       " 12,\n",
       " 13,\n",
       " 14,\n",
       " 15,\n",
       " 16,\n",
       " 17,\n",
       " 18,\n",
       " 19,\n",
       " 20,\n",
       " 21,\n",
       " 22,\n",
       " 23,\n",
       " 24,\n",
       " 25,\n",
       " 26,\n",
       " 27,\n",
       " 28,\n",
       " 29,\n",
       " 30,\n",
       " 31,\n",
       " 32,\n",
       " 33,\n",
       " 34,\n",
       " 35,\n",
       " 36,\n",
       " 37,\n",
       " 38,\n",
       " 39,\n",
       " 40,\n",
       " 41,\n",
       " 42,\n",
       " 43,\n",
       " 44,\n",
       " 45,\n",
       " 46,\n",
       " 47,\n",
       " 48,\n",
       " 49,\n",
       " 50,\n",
       " 51,\n",
       " 52,\n",
       " 53,\n",
       " 54,\n",
       " 55,\n",
       " 56,\n",
       " 57,\n",
       " 58,\n",
       " 59,\n",
       " 60,\n",
       " 61]"
      ]
     },
     "execution_count": 180,
     "metadata": {},
     "output_type": "execute_result"
    }
   ],
   "source": [
    "intervals"
   ]
  },
  {
   "cell_type": "code",
   "execution_count": 36,
   "metadata": {},
   "outputs": [
    {
     "data": {
      "text/plain": [
       "[17, 13, 19]"
      ]
     },
     "execution_count": 36,
     "metadata": {},
     "output_type": "execute_result"
    }
   ],
   "source": [
    "[int(v) for x,v in zip(x, vals) if v != 'x']"
   ]
  },
  {
   "cell_type": "code",
   "execution_count": 181,
   "metadata": {},
   "outputs": [
    {
     "ename": "KeyboardInterrupt",
     "evalue": "",
     "output_type": "error",
     "traceback": [
      "\u001b[0;31m-----------------------------------------------------------------------\u001b[0m",
      "\u001b[0;31mKeyboardInterrupt\u001b[0m                     Traceback (most recent call last)",
      "\u001b[0;32m<timed exec>\u001b[0m in \u001b[0;36m<module>\u001b[0;34m\u001b[0m\n",
      "\u001b[0;31mKeyboardInterrupt\u001b[0m: "
     ]
    }
   ],
   "source": [
    "%%time\n",
    "\n",
    "match = False\n",
    "timestamp = 1033335951648\n",
    "\n",
    "while match == False:\n",
    "    timestamps = [timestamp+i for i in intervals]  # intervals always same\n",
    "    matches = [t % int(v) == 0 for t, v in zip(timestamps, inp) if v != 'x']\n",
    "    \n",
    "    if all(matches) == True:\n",
    "        match = True\n",
    "    else: \n",
    "        timestamp += 1033335951648\n",
    "    \n",
    "    #if timestamp % 1000000000"
   ]
  },
  {
   "cell_type": "code",
   "execution_count": null,
   "metadata": {},
   "outputs": [],
   "source": [
    "# CPU times: user 27.5 ms, sys: 1.58 ms, total: 29.1 ms\n",
    "# Wall time: 30 ms"
   ]
  },
  {
   "cell_type": "code",
   "execution_count": 182,
   "metadata": {},
   "outputs": [
    {
     "data": {
      "text/plain": [
       "20170839709811254464"
      ]
     },
     "execution_count": 182,
     "metadata": {},
     "output_type": "execute_result"
    }
   ],
   "source": [
    "timestamp"
   ]
  },
  {
   "cell_type": "code",
   "execution_count": null,
   "metadata": {},
   "outputs": [],
   "source": [
    "# 21700054984608  -  too low"
   ]
  },
  {
   "cell_type": "code",
   "execution_count": 101,
   "metadata": {},
   "outputs": [
    {
     "data": {
      "text/plain": [
       "2360619610"
      ]
     },
     "execution_count": 101,
     "metadata": {},
     "output_type": "execute_result"
    }
   ],
   "source": [
    "timestamp - 100000000000000"
   ]
  },
  {
   "cell_type": "code",
   "execution_count": 72,
   "metadata": {},
   "outputs": [],
   "source": [
    "timestamps = [timestamp+i for i in intervals]"
   ]
  },
  {
   "cell_type": "code",
   "execution_count": 73,
   "metadata": {},
   "outputs": [],
   "source": [
    "#timestamp = 100000000000000\n",
    "timestamp = 3417"
   ]
  },
  {
   "cell_type": "code",
   "execution_count": 83,
   "metadata": {},
   "outputs": [],
   "source": [
    "matches = [t % int(v) == 0 for t, v in zip(timestamps, vals) if v != 'x']"
   ]
  },
  {
   "cell_type": "code",
   "execution_count": 85,
   "metadata": {},
   "outputs": [
    {
     "data": {
      "text/plain": [
       "[True, True, True]"
      ]
     },
     "execution_count": 85,
     "metadata": {},
     "output_type": "execute_result"
    }
   ],
   "source": [
    "matches"
   ]
  },
  {
   "cell_type": "code",
   "execution_count": 106,
   "metadata": {},
   "outputs": [
    {
     "data": {
      "text/plain": [
       "[13, 44, 44, 672, 51, 59, 71, 453, 78]"
      ]
     },
     "execution_count": 106,
     "metadata": {},
     "output_type": "execute_result"
    }
   ],
   "source": [
    "[ i+int(t) for i, t in zip(intervals, inp) if t != 'x']"
   ]
  },
  {
   "cell_type": "code",
   "execution_count": 107,
   "metadata": {
    "collapsed": true,
    "jupyter": {
     "outputs_hidden": true
    }
   },
   "outputs": [
    {
     "data": {
      "text/plain": [
       "['13',\n",
       " 'x',\n",
       " 'x',\n",
       " '41',\n",
       " 'x',\n",
       " 'x',\n",
       " 'x',\n",
       " '37',\n",
       " 'x',\n",
       " 'x',\n",
       " 'x',\n",
       " 'x',\n",
       " 'x',\n",
       " '659',\n",
       " 'x',\n",
       " 'x',\n",
       " 'x',\n",
       " 'x',\n",
       " 'x',\n",
       " 'x',\n",
       " 'x',\n",
       " 'x',\n",
       " 'x',\n",
       " 'x',\n",
       " 'x',\n",
       " 'x',\n",
       " 'x',\n",
       " 'x',\n",
       " 'x',\n",
       " 'x',\n",
       " 'x',\n",
       " 'x',\n",
       " '19',\n",
       " 'x',\n",
       " 'x',\n",
       " 'x',\n",
       " '23',\n",
       " 'x',\n",
       " 'x',\n",
       " 'x',\n",
       " 'x',\n",
       " 'x',\n",
       " '29',\n",
       " 'x',\n",
       " '409',\n",
       " 'x',\n",
       " 'x',\n",
       " 'x',\n",
       " 'x',\n",
       " 'x',\n",
       " 'x',\n",
       " 'x',\n",
       " 'x',\n",
       " 'x',\n",
       " 'x',\n",
       " 'x',\n",
       " 'x',\n",
       " 'x',\n",
       " 'x',\n",
       " 'x',\n",
       " 'x',\n",
       " '17']"
      ]
     },
     "execution_count": 107,
     "metadata": {},
     "output_type": "execute_result"
    }
   ],
   "source": [
    "inp"
   ]
  },
  {
   "cell_type": "code",
   "execution_count": 166,
   "metadata": {
    "collapsed": true,
    "jupyter": {
     "outputs_hidden": true
    }
   },
   "outputs": [
    {
     "name": "stdout",
     "output_type": "stream",
     "text": [
      "0\n",
      "1033335951648\n",
      "2066671903296\n",
      "3100007854944\n",
      "4133343806592\n",
      "5166679758240\n",
      "6200015709888\n",
      "7233351661536\n",
      "8266687613184\n",
      "9300023564832\n",
      "10333359516480\n",
      "11366695468128\n",
      "12400031419776\n",
      "13433367371424\n",
      "14466703323072\n",
      "15500039274720\n",
      "16533375226368\n",
      "17566711178016\n",
      "18600047129664\n",
      "19633383081312\n",
      "20666719032960\n",
      "21700054984608\n",
      "22733390936256\n",
      "23766726887904\n",
      "24800062839552\n",
      "25833398791200\n",
      "26866734742848\n",
      "27900070694496\n",
      "28933406646144\n",
      "29966742597792\n",
      "31000078549440\n",
      "32033414501088\n",
      "33066750452736\n",
      "34100086404384\n",
      "35133422356032\n",
      "36166758307680\n",
      "37200094259328\n",
      "38233430210976\n",
      "39266766162624\n",
      "40300102114272\n",
      "41333438065920\n",
      "42366774017568\n",
      "43400109969216\n",
      "44433445920864\n",
      "45466781872512\n",
      "46500117824160\n",
      "47533453775808\n",
      "48566789727456\n",
      "49600125679104\n",
      "50633461630752\n",
      "51666797582400\n",
      "52700133534048\n",
      "53733469485696\n",
      "54766805437344\n",
      "55800141388992\n",
      "56833477340640\n",
      "57866813292288\n",
      "58900149243936\n",
      "59933485195584\n",
      "60966821147232\n",
      "62000157098880\n",
      "63033493050528\n",
      "64066829002176\n",
      "65100164953824\n",
      "66133500905472\n",
      "67166836857120\n",
      "68200172808768\n",
      "69233508760416\n",
      "70266844712064\n",
      "71300180663712\n",
      "72333516615360\n",
      "73366852567008\n",
      "74400188518656\n",
      "75433524470304\n",
      "76466860421952\n",
      "77500196373600\n",
      "78533532325248\n",
      "79566868276896\n",
      "80600204228544\n",
      "81633540180192\n",
      "82666876131840\n",
      "83700212083488\n",
      "84733548035136\n",
      "85766883986784\n",
      "86800219938432\n",
      "87833555890080\n",
      "88866891841728\n",
      "89900227793376\n",
      "90933563745024\n",
      "91966899696672\n",
      "93000235648320\n",
      "94033571599968\n",
      "95066907551616\n",
      "96100243503264\n",
      "97133579454912\n",
      "98166915406560\n",
      "99200251358208\n"
     ]
    }
   ],
   "source": [
    "for i in range(0, 100000000000000, 1033335951648):\n",
    "    if i % 13 == 0 and i % 44 == 0 and i % 44 == 0 and i % 672 == 0 and i % 51 == 0 and i % 59 == 0 and i % 71 == 0 and i % 453 == 0 and i % 78 == 0:\n",
    "        print(i)"
   ]
  },
  {
   "cell_type": "code",
   "execution_count": 165,
   "metadata": {},
   "outputs": [
    {
     "data": {
      "text/plain": [
       "0"
      ]
     },
     "execution_count": 165,
     "metadata": {},
     "output_type": "execute_result"
    }
   ],
   "source": [
    "1033335951648 % 44"
   ]
  },
  {
   "cell_type": "code",
   "execution_count": 167,
   "metadata": {},
   "outputs": [],
   "source": [
    "testo = [13, 44, 44, 672, 51, 59, 71, 453, 78]"
   ]
  },
  {
   "cell_type": "code",
   "execution_count": 170,
   "metadata": {},
   "outputs": [
    {
     "name": "stdout",
     "output_type": "stream",
     "text": [
      "13 whaatttttt\n",
      "44 whaatttttt\n",
      "44 whaatttttt\n",
      "672 whaatttttt\n",
      "51 whaatttttt\n",
      "59 whaatttttt\n",
      "71 whaatttttt\n",
      "453 whaatttttt\n",
      "78 whaatttttt\n"
     ]
    }
   ],
   "source": [
    "for t in testo:\n",
    "    if 1033335951648 % t == 0:\n",
    "        print(t,'whaatttttt')"
   ]
  },
  {
   "cell_type": "code",
   "execution_count": 135,
   "metadata": {},
   "outputs": [
    {
     "data": {
      "text/plain": [
       "192768576"
      ]
     },
     "execution_count": 135,
     "metadata": {},
     "output_type": "execute_result"
    }
   ],
   "source": [
    "96384288 + 96384288"
   ]
  },
  {
   "cell_type": "code",
   "execution_count": null,
   "metadata": {},
   "outputs": [],
   "source": [
    "['17','x','13','19']"
   ]
  },
  {
   "cell_type": "code",
   "execution_count": 148,
   "metadata": {},
   "outputs": [
    {
     "name": "stdout",
     "output_type": "stream",
     "text": [
      "3417\n",
      "7616\n"
     ]
    }
   ],
   "source": [
    "for i in range(10000):\n",
    "    if i % 17 == 0 and (i+2) % 13 == 0 and (i+3) % 19 == 0:\n",
    "        print(i)"
   ]
  },
  {
   "cell_type": "code",
   "execution_count": 183,
   "metadata": {},
   "outputs": [
    {
     "data": {
      "text/plain": [
       "[(0, 13),\n",
       " (3, 41),\n",
       " (7, 37),\n",
       " (13, 659),\n",
       " (32, 19),\n",
       " (36, 23),\n",
       " (42, 29),\n",
       " (44, 409),\n",
       " (61, 17)]"
      ]
     },
     "execution_count": 183,
     "metadata": {},
     "output_type": "execute_result"
    }
   ],
   "source": [
    "[ (i,int(t)) for i, t in zip(intervals, inp) if t != 'x']"
   ]
  },
  {
   "cell_type": "code",
   "execution_count": 228,
   "metadata": {},
   "outputs": [],
   "source": [
    "for i in range(0, 100, 13):\n",
    "    if i % 13 == 0 and \\\n",
    "    (i+3) % 41 == 0 and \\\n",
    "    (i+7) % 37 == 0 and \\\n",
    "    (i+13) % 659 == 0 and \\\n",
    "    (i+32) % 19 == 0 and \\\n",
    "    (i+36) % 23 == 0 and \\\n",
    "    (i+42) % 29 == 0 and \\\n",
    "    (i+44) % 409 == 0 and \\\n",
    "    (i+61) % 17 == 0:\n",
    "        print(i)"
   ]
  },
  {
   "cell_type": "code",
   "execution_count": 282,
   "metadata": {},
   "outputs": [
    {
     "name": "stdout",
     "output_type": "stream",
     "text": [
      "939490236001473\n",
      "2084649819561764\n",
      "3229809403122055\n",
      "4374968986682346\n",
      "5520128570242637\n",
      "6665288153802928\n",
      "7810447737363219\n",
      "8955607320923510\n"
     ]
    }
   ],
   "source": [
    "for i in range(939490236001473, 10000000000000000, 1145159583560291):\n",
    "    if i % 13 == 0 and \\\n",
    "    (i+3) % 41 == 0 and \\\n",
    "    (i+7) % 37 == 0 and \\\n",
    "    (i+13) % 659 == 0 and \\\n",
    "    (i+32) % 19 == 0 and \\\n",
    "    (i+36) % 23 == 0 and \\\n",
    "    (i+42) % 29 == 0 and \\\n",
    "    (i+44) % 409 == 0 and \\\n",
    "    (i+61) % 17 == 0:\n",
    "        print(i)"
   ]
  },
  {
   "cell_type": "code",
   "execution_count": 286,
   "metadata": {},
   "outputs": [
    {
     "data": {
      "text/plain": [
       "0"
      ]
     },
     "execution_count": 286,
     "metadata": {},
     "output_type": "execute_result"
    }
   ],
   "source": [
    "1145159583560291 % 659"
   ]
  },
  {
   "cell_type": "code",
   "execution_count": 281,
   "metadata": {},
   "outputs": [
    {
     "data": {
      "text/plain": [
       "1145159583560291"
      ]
     },
     "execution_count": 281,
     "metadata": {},
     "output_type": "execute_result"
    }
   ],
   "source": [
    "2084649819561764 - 939490236001473"
   ]
  },
  {
   "cell_type": "code",
   "execution_count": null,
   "metadata": {},
   "outputs": [],
   "source": [
    "1789,37,47,1889"
   ]
  },
  {
   "cell_type": "code",
   "execution_count": 210,
   "metadata": {},
   "outputs": [
    {
     "data": {
      "text/plain": [
       "1202161486"
      ]
     },
     "execution_count": 210,
     "metadata": {},
     "output_type": "execute_result"
    }
   ],
   "source": [
    "1202161486 # timestep+1 has to be devide by raw busval"
   ]
  },
  {
   "cell_type": "code",
   "execution_count": 223,
   "metadata": {},
   "outputs": [
    {
     "name": "stdout",
     "output_type": "stream",
     "text": [
      "1202161486\n",
      "7078974605\n"
     ]
    }
   ],
   "source": [
    "for i in range(0, 12021610000, 1789):\n",
    "    if i % 1789 == 0 and (i+1) % 37 == 0 and (i+2) % 47 == 0 and (i+3) % 1889 == 0:\n",
    "        print(i)"
   ]
  },
  {
   "cell_type": "code",
   "execution_count": 211,
   "metadata": {},
   "outputs": [
    {
     "data": {
      "text/plain": [
       "66193"
      ]
     },
     "execution_count": 211,
     "metadata": {},
     "output_type": "execute_result"
    }
   ],
   "source": [
    "for i in range(0, 100000000000000, 1033335951648):\n",
    "    if i % 13 == 0 and i % 44 == 0 and i % 44 == 0 and i % 672 == 0 and i % 51 == 0 and i % 59 == 0 and i % 71 == 0 and i % 453 == 0 and i % 78 == 0:\n",
    "        print(i)"
   ]
  },
  {
   "cell_type": "code",
   "execution_count": 219,
   "metadata": {},
   "outputs": [
    {
     "data": {
      "text/plain": [
       "0"
      ]
     },
     "execution_count": 219,
     "metadata": {},
     "output_type": "execute_result"
    }
   ],
   "source": [
    "(1288080 + 2) % 47"
   ]
  },
  {
   "cell_type": "code",
   "execution_count": null,
   "metadata": {},
   "outputs": [],
   "source": []
  }
 ],
 "metadata": {
  "kernelspec": {
   "display_name": "venv",
   "language": "python",
   "name": "venv"
  },
  "language_info": {
   "codemirror_mode": {
    "name": "ipython",
    "version": 3
   },
   "file_extension": ".py",
   "mimetype": "text/x-python",
   "name": "python",
   "nbconvert_exporter": "python",
   "pygments_lexer": "ipython3",
   "version": "3.7.4"
  }
 },
 "nbformat": 4,
 "nbformat_minor": 4
}
