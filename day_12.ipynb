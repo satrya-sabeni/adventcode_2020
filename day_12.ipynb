{
 "cells": [
  {
   "cell_type": "code",
   "execution_count": 1,
   "metadata": {},
   "outputs": [],
   "source": [
    "from dataclasses import dataclass"
   ]
  },
  {
   "cell_type": "code",
   "execution_count": 2,
   "metadata": {},
   "outputs": [],
   "source": [
    "with open('./input/input_day12.txt') as file:\n",
    "    route = file.read().splitlines()"
   ]
  },
  {
   "cell_type": "code",
   "execution_count": 3,
   "metadata": {},
   "outputs": [
    {
     "data": {
      "text/plain": [
       "['W5', 'N3', 'W4', 'F2', 'N3', 'R180', 'E2', 'S4', 'E5', 'N4']"
      ]
     },
     "execution_count": 3,
     "metadata": {},
     "output_type": "execute_result"
    }
   ],
   "source": [
    "route[:10]"
   ]
  },
  {
   "cell_type": "code",
   "execution_count": 4,
   "metadata": {},
   "outputs": [],
   "source": [
    "coords = [\n",
    "'F10',\n",
    "'N3',\n",
    "'F7',\n",
    "'R90',\n",
    "'F11']"
   ]
  },
  {
   "cell_type": "code",
   "execution_count": 5,
   "metadata": {},
   "outputs": [],
   "source": [
    "@dataclass\n",
    "class compas:\n",
    "    n: int\n",
    "    e: int\n",
    "    s: int\n",
    "    w: int\n",
    "        \n",
    "    def calc_hoz(self):\n",
    "        return abs(self.e - self.w)\n",
    "        \n",
    "    def calc_vert(self):\n",
    "        return abs(self.n - self.s)\n",
    "    \n",
    "   "
   ]
  },
  {
   "cell_type": "code",
   "execution_count": 8,
   "metadata": {},
   "outputs": [
    {
     "data": {
      "text/plain": [
       "(10, -97)"
      ]
     },
     "execution_count": 8,
     "metadata": {},
     "output_type": "execute_result"
    }
   ],
   "source": [
    "wn = 3\n",
    "we = 10\n",
    "ws = 100\n",
    "ww = 0\n",
    "\n",
    "def get_waypoint(wn, we, ws, ww):\n",
    "    hoz = we - ww\n",
    "    hov = wn - ws\n",
    "    \n",
    "    return hoz, hov\n",
    "\n",
    "get_waypoint(wn, we, ws, ww)"
   ]
  },
  {
   "cell_type": "code",
   "execution_count": 9,
   "metadata": {
    "collapsed": true,
    "jupyter": {
     "outputs_hidden": true,
     "source_hidden": true
    }
   },
   "outputs": [
    {
     "ename": "NameError",
     "evalue": "name 'get_orient' is not defined",
     "output_type": "error",
     "traceback": [
      "\u001b[0;31m---------------------------------------------------------------------------\u001b[0m",
      "\u001b[0;31mNameError\u001b[0m                                 Traceback (most recent call last)",
      "\u001b[0;32m<ipython-input-9-437082023c2e>\u001b[0m in \u001b[0;36m<module>\u001b[0;34m\u001b[0m\n\u001b[1;32m     24\u001b[0m \u001b[0;34m\u001b[0m\u001b[0m\n\u001b[1;32m     25\u001b[0m     \u001b[0;32melif\u001b[0m \u001b[0mac\u001b[0m \u001b[0;34m==\u001b[0m \u001b[0;34m'F'\u001b[0m\u001b[0;34m:\u001b[0m\u001b[0;34m\u001b[0m\u001b[0;34m\u001b[0m\u001b[0m\n\u001b[0;32m---> 26\u001b[0;31m         \u001b[0mdirection\u001b[0m \u001b[0;34m=\u001b[0m \u001b[0mget_orient\u001b[0m\u001b[0;34m(\u001b[0m\u001b[0mdegrees\u001b[0m\u001b[0;34m)\u001b[0m\u001b[0;34m\u001b[0m\u001b[0;34m\u001b[0m\u001b[0m\n\u001b[0m\u001b[1;32m     27\u001b[0m         \u001b[0madd_to_orient\u001b[0m\u001b[0;34m(\u001b[0m\u001b[0mcomp\u001b[0m\u001b[0;34m,\u001b[0m \u001b[0mdirection\u001b[0m\u001b[0;34m,\u001b[0m \u001b[0mval\u001b[0m\u001b[0;34m)\u001b[0m\u001b[0;34m\u001b[0m\u001b[0;34m\u001b[0m\u001b[0m\n\u001b[1;32m     28\u001b[0m \u001b[0;34m\u001b[0m\u001b[0m\n",
      "\u001b[0;31mNameError\u001b[0m: name 'get_orient' is not defined"
     ]
    }
   ],
   "source": [
    "wn = 3\n",
    "we = 10\n",
    "ws = 0\n",
    "ww = 0\n",
    "        \n",
    "degrees = 0\n",
    "comp = compas(0,0,0,0)\n",
    "\n",
    "for c in route:\n",
    "    ac = c[0]\n",
    "    val = int(c[1:])\n",
    "    \n",
    "    if ac == 'E':\n",
    "        comp.e += val\n",
    "    \n",
    "    elif ac == 'W':\n",
    "        comp.w += val\n",
    "        \n",
    "    elif ac == 'S':\n",
    "        comp.s += val\n",
    "    \n",
    "    elif ac == 'N':\n",
    "        comp.n += val\n",
    "        \n",
    "    elif ac == 'F':\n",
    "        direction = get_orient(degrees)\n",
    "        add_to_orient(comp, direction, val)\n",
    "    \n",
    "    elif ac == 'R':\n",
    "        degrees += val\n",
    "    \n",
    "    elif ac == 'L':\n",
    "        degrees -= val\n",
    "        "
   ]
  },
  {
   "cell_type": "code",
   "execution_count": 159,
   "metadata": {},
   "outputs": [
    {
     "data": {
      "text/plain": [
       "compas(n=2659, e=1810, s=2382, w=3066)"
      ]
     },
     "execution_count": 159,
     "metadata": {},
     "output_type": "execute_result"
    }
   ],
   "source": [
    "comp"
   ]
  },
  {
   "cell_type": "code",
   "execution_count": 160,
   "metadata": {},
   "outputs": [
    {
     "data": {
      "text/plain": [
       "(1256, 277)"
      ]
     },
     "execution_count": 160,
     "metadata": {},
     "output_type": "execute_result"
    }
   ],
   "source": [
    "comp.calc_hoz(), comp.calc_vert()"
   ]
  },
  {
   "cell_type": "code",
   "execution_count": 161,
   "metadata": {},
   "outputs": [
    {
     "data": {
      "text/plain": [
       "1533"
      ]
     },
     "execution_count": 161,
     "metadata": {},
     "output_type": "execute_result"
    }
   ],
   "source": [
    "1256 + 277"
   ]
  },
  {
   "cell_type": "code",
   "execution_count": 76,
   "metadata": {},
   "outputs": [],
   "source": [
    "add_to_orient(comp, 'S', 23)"
   ]
  },
  {
   "cell_type": "code",
   "execution_count": 150,
   "metadata": {},
   "outputs": [],
   "source": [
    "def get_orient(_degree):\n",
    "    \n",
    "    rdegree = _degree / 360\n",
    "    degree = rdegree % 1\n",
    "    \n",
    "    if degree == 0:\n",
    "        return 'E'\n",
    "    elif degree == 0.25:\n",
    "        return 'S'\n",
    "    elif degree == 0.5:\n",
    "        return 'W'\n",
    "    elif degree == 0.75:\n",
    "        return 'N'\n"
   ]
  },
  {
   "cell_type": "code",
   "execution_count": 10,
   "metadata": {},
   "outputs": [],
   "source": [
    "def add_to_orient(_omp, orient, val):\n",
    "    if orient == 'N':\n",
    "        comp.n += val\n",
    "    elif orient == 'E':\n",
    "        comp.e += val\n",
    "    elif orient == 'S':\n",
    "        comp.s += val\n",
    "    elif orient == 'W':\n",
    "        comp.w += val"
   ]
  },
  {
   "cell_type": "code",
   "execution_count": 11,
   "metadata": {},
   "outputs": [],
   "source": [
    "def add_to_orient2(wx, xval, wy, yval, val):\n",
    "    if wx == 'E':\n",
    "        comp.e += (val * xval)\n",
    "        print(f'E: {val} * {xval}')\n",
    "    elif wx == 'W':\n",
    "        comp.w += (val * xval)\n",
    "        print(f'W: {val} * {xval}')\n",
    "    \n",
    "    if wy == 'N':\n",
    "        comp.n += (val * yval)\n",
    "        print(f'N: {val} * {xval}')\n",
    "    elif wy == 'S':\n",
    "        comp.s += (val * yval)\n",
    "        print(f'S: {val} * {xval}')"
   ]
  },
  {
   "cell_type": "code",
   "execution_count": 12,
   "metadata": {},
   "outputs": [],
   "source": [
    "def turn_waypoint(_degree):\n",
    "    # map of current situation\n",
    "    currentw = {k: w for w, k in zip([wn, we, ws, ww],[0.75, 0, 0.25, 0.5]) }\n",
    "    \n",
    "    rdegree = _degree / 360\n",
    "    turns = rdegree % 1\n",
    "    \n",
    "    new_n = (curpolmap['N'] - turns) % 1\n",
    "    new_e = (curpolmap['E'] - turns) % 1\n",
    "    new_s = (curpolmap['S'] - turns) % 1\n",
    "    new_w = (curpolmap['W'] - turns) % 1\n",
    "    \n",
    "    #print(currentw)\n",
    "    #print(new_n, new_e, new_w, new_s)\n",
    "    \n",
    "    return currentw[new_n],currentw[new_e],currentw[new_s],currentw[new_w]\n",
    "    \n",
    "#     print(f'n: {currentw[new_n]}')\n",
    "#     print(f'e: {currentw[new_e]}')\n",
    "#     print(f's: {currentw[new_s]}')\n",
    "#     print(f'w: {currentw[new_w]}')"
   ]
  },
  {
   "cell_type": "code",
   "execution_count": 118,
   "metadata": {},
   "outputs": [],
   "source": [
    "def turn_waypoints_new(degree, dr):\n",
    "    currentw = {k: w for w, k in zip([wn, we, ws, ww],[270, 0, 90, 180]) }\n",
    "    \n",
    "\n",
    "    new_w = {}\n",
    "    \n",
    "    if dr == 'R':\n",
    "        for w in [270, 0, 90, 180]:\n",
    "            nw = w + degree\n",
    "            if nw >= 360:\n",
    "                nw = nw - 360\n",
    "            new_w[nw] = currentw[w]\n",
    "\n",
    "    \n",
    "    if dr == 'L':\n",
    "        for w in [270, 0, 90, 180]:\n",
    "            nw = w - degree\n",
    "            if nw < 0:\n",
    "                nw = nw + 360\n",
    "            new_w[nw] = currentw[w]\n",
    "            \n",
    "    return new_w[270], new_w[0], new_w[90], new_w[180]\n",
    "            \n",
    "        "
   ]
  },
  {
   "cell_type": "code",
   "execution_count": 42,
   "metadata": {
    "jupyter": {
     "source_hidden": true
    }
   },
   "outputs": [
    {
     "data": {
      "text/plain": [
       "270"
      ]
     },
     "execution_count": 42,
     "metadata": {},
     "output_type": "execute_result"
    }
   ],
   "source": [
    "n = 0 + 270\n",
    "if n >= 360:\n",
    "    n = n - 360\n",
    "    \n",
    "n"
   ]
  },
  {
   "cell_type": "code",
   "execution_count": 122,
   "metadata": {},
   "outputs": [
    {
     "data": {
      "text/plain": [
       "(5, 18, 16, 16)"
      ]
     },
     "execution_count": 122,
     "metadata": {},
     "output_type": "execute_result"
    }
   ],
   "source": [
    "turn_waypoints_new(90, 'L')"
   ]
  },
  {
   "cell_type": "code",
   "execution_count": 83,
   "metadata": {},
   "outputs": [
    {
     "data": {
      "text/plain": [
       "(16, 5, 18, 16)"
      ]
     },
     "execution_count": 83,
     "metadata": {},
     "output_type": "execute_result"
    }
   ],
   "source": [
    "wn, we, ws, ww"
   ]
  },
  {
   "cell_type": "code",
   "execution_count": null,
   "metadata": {},
   "outputs": [],
   "source": []
  },
  {
   "cell_type": "code",
   "execution_count": 13,
   "metadata": {},
   "outputs": [],
   "source": [
    "newpolmap = {0: 'E', 0.25: 'S', 0.5: 'W', 0.75: 'N'}"
   ]
  },
  {
   "cell_type": "code",
   "execution_count": 14,
   "metadata": {},
   "outputs": [],
   "source": [
    "curpolmap = {'E': 0, 'S': 0.25, 'W': 0.5, 'N': 0.75}"
   ]
  },
  {
   "cell_type": "code",
   "execution_count": 15,
   "metadata": {},
   "outputs": [],
   "source": [
    "wn, we ,ws, ww = turn_waypoint(180)"
   ]
  },
  {
   "cell_type": "code",
   "execution_count": 16,
   "metadata": {},
   "outputs": [
    {
     "data": {
      "text/plain": [
       "0.25"
      ]
     },
     "execution_count": 16,
     "metadata": {},
     "output_type": "execute_result"
    }
   ],
   "source": [
    "0.25 % 1"
   ]
  },
  {
   "cell_type": "code",
   "execution_count": 17,
   "metadata": {},
   "outputs": [],
   "source": [
    "def get_waypoint(wn, we, ws, ww):\n",
    "    hoz = we - ww\n",
    "    hov = wn - ws\n",
    "    \n",
    "    if hoz < 0:\n",
    "        hoz_c = 'W'\n",
    "    elif hoz > 0:\n",
    "        hoz_c = 'E'\n",
    "    else:\n",
    "        hoz_c = 'E'\n",
    "        \n",
    "    if hov < 0:\n",
    "        hov_c = 'S'\n",
    "    elif hov > 0:\n",
    "        hov_c = 'N'\n",
    "    else: #0\n",
    "        hov_c = 'N'\n",
    "        \n",
    "    return hoz_c, abs(hoz), hov_c, abs(hov)"
   ]
  },
  {
   "cell_type": "code",
   "execution_count": 260,
   "metadata": {},
   "outputs": [
    {
     "data": {
      "text/plain": [
       "(3, 10, 0, 0)"
      ]
     },
     "execution_count": 260,
     "metadata": {},
     "output_type": "execute_result"
    }
   ],
   "source": [
    "wn, we, ws, ww"
   ]
  },
  {
   "cell_type": "code",
   "execution_count": 285,
   "metadata": {},
   "outputs": [
    {
     "data": {
      "text/plain": [
       "('W', 6, 'N', 10)"
      ]
     },
     "execution_count": 285,
     "metadata": {},
     "output_type": "execute_result"
    }
   ],
   "source": [
    "get_waypoint(wn, we, ws, ww)\n"
   ]
  },
  {
   "cell_type": "code",
   "execution_count": 245,
   "metadata": {},
   "outputs": [],
   "source": [
    "x"
   ]
  },
  {
   "cell_type": "code",
   "execution_count": null,
   "metadata": {},
   "outputs": [],
   "source": []
  },
  {
   "cell_type": "code",
   "execution_count": null,
   "metadata": {},
   "outputs": [],
   "source": []
  },
  {
   "cell_type": "markdown",
   "metadata": {},
   "source": [
    "## part 2"
   ]
  },
  {
   "cell_type": "code",
   "execution_count": 6,
   "metadata": {},
   "outputs": [
    {
     "data": {
      "text/plain": [
       "['W5',\n",
       " 'N3',\n",
       " 'W4',\n",
       " 'F2',\n",
       " 'N3',\n",
       " 'R180',\n",
       " 'E2',\n",
       " 'S4',\n",
       " 'E5',\n",
       " 'N4',\n",
       " 'E2',\n",
       " 'L90',\n",
       " 'F81',\n",
       " 'E5',\n",
       " 'R180']"
      ]
     },
     "execution_count": 6,
     "metadata": {},
     "output_type": "execute_result"
    }
   ],
   "source": [
    "route[:15]"
   ]
  },
  {
   "cell_type": "code",
   "execution_count": null,
   "metadata": {},
   "outputs": [],
   "source": [
    "634s, 571e"
   ]
  },
  {
   "cell_type": "code",
   "execution_count": 226,
   "metadata": {},
   "outputs": [
    {
     "data": {
      "text/plain": [
       "['F10', 'N3', 'F7', 'R90', 'F11']"
      ]
     },
     "execution_count": 226,
     "metadata": {},
     "output_type": "execute_result"
    }
   ],
   "source": [
    "coords"
   ]
  },
  {
   "cell_type": "code",
   "execution_count": 22,
   "metadata": {},
   "outputs": [
    {
     "name": "stdout",
     "output_type": "stream",
     "text": [
      "step 0\n",
      "current waypoints: 1 10 0 0\n",
      "current vals: (0, 0, 0, 0)\n",
      "action W: 5\n",
      "---------------\n",
      "step 1\n",
      "current waypoints: 1 10 0 5\n",
      "current vals: (0, 0, 0, 0)\n",
      "action N: 3\n",
      "---------------\n",
      "step 2\n",
      "current waypoints: 4 10 0 5\n",
      "current vals: (0, 0, 0, 0)\n",
      "action W: 4\n",
      "---------------\n",
      "step 3\n",
      "current waypoints: 4 10 0 9\n",
      "current vals: (0, 0, 0, 0)\n",
      "action F: 2\n",
      "E: 2 * 1\n",
      "N: 2 * 1\n",
      "compas(n=8, e=2, s=0, w=0)\n",
      "---------------\n",
      "step 4\n",
      "current waypoints: 4 10 0 9\n",
      "current vals: (8, 2, 0, 0)\n",
      "action N: 3\n",
      "---------------\n",
      "step 5\n",
      "current waypoints: 7 10 0 9\n",
      "current vals: (8, 2, 0, 0)\n",
      "action R: 180\n",
      "pre right 7 10 0 9 180\n",
      "after right 0 9 7 10\n",
      "---------------\n",
      "step 6\n",
      "current waypoints: 0 9 7 10\n",
      "current vals: (8, 2, 0, 0)\n",
      "action E: 2\n",
      "---------------\n",
      "step 7\n",
      "current waypoints: 0 11 7 10\n",
      "current vals: (8, 2, 0, 0)\n",
      "action S: 4\n",
      "---------------\n",
      "step 8\n",
      "current waypoints: 0 11 11 10\n",
      "current vals: (8, 2, 0, 0)\n",
      "action E: 5\n",
      "---------------\n",
      "step 9\n",
      "current waypoints: 0 16 11 10\n",
      "current vals: (8, 2, 0, 0)\n",
      "action N: 4\n",
      "---------------\n",
      "step 10\n",
      "current waypoints: 4 16 11 10\n",
      "current vals: (8, 2, 0, 0)\n",
      "action E: 2\n",
      "---------------\n",
      "step 11\n",
      "current waypoints: 4 18 11 10\n",
      "current vals: (8, 2, 0, 0)\n",
      "action L: 90\n",
      "pre left turn 4 18 11 10 180\n",
      "left turn 18 11 10 4\n",
      "---------------\n",
      "step 12\n",
      "current waypoints: 18 11 10 4\n",
      "current vals: (8, 2, 0, 0)\n",
      "action F: 81\n",
      "E: 81 * 7\n",
      "N: 81 * 7\n",
      "compas(n=656, e=569, s=0, w=0)\n",
      "---------------\n",
      "step 13\n",
      "current waypoints: 18 11 10 4\n",
      "current vals: (656, 569, 0, 0)\n",
      "action E: 5\n",
      "---------------\n",
      "step 14\n",
      "current waypoints: 18 16 10 4\n",
      "current vals: (656, 569, 0, 0)\n",
      "action R: 180\n",
      "pre right 18 16 10 4 270\n",
      "after right 16 10 4 18\n",
      "---------------\n",
      "step 15\n",
      "current waypoints: 16 10 4 18\n",
      "current vals: (656, 569, 0, 0)\n",
      "action E: 2\n",
      "---------------\n",
      "step 16\n",
      "current waypoints: 16 12 4 18\n",
      "current vals: (656, 569, 0, 0)\n",
      "action F: 88\n",
      "W: 88 * 6\n",
      "N: 88 * 6\n",
      "compas(n=1712, e=569, s=0, w=528)\n",
      "---------------\n",
      "step 17\n",
      "current waypoints: 16 12 4 18\n",
      "current vals: (1712, 569, 0, 528)\n",
      "action L: 90\n",
      "pre left turn 16 12 4 18 270\n",
      "left turn 12 4 18 16\n",
      "---------------\n",
      "step 18\n",
      "current waypoints: 12 4 18 16\n",
      "current vals: (1712, 569, 0, 528)\n",
      "action N: 4\n",
      "---------------\n",
      "step 19\n",
      "current waypoints: 16 4 18 16\n",
      "current vals: (1712, 569, 0, 528)\n",
      "action E: 1\n",
      "---------------\n"
     ]
    }
   ],
   "source": [
    "wn = 1\n",
    "we = 10\n",
    "ws = 0\n",
    "ww = 0\n",
    "        \n",
    "degrees = 0\n",
    "comp = compas(0,0,0,0)\n",
    "\n",
    "\n",
    "for k, c in enumerate(route[:20]):\n",
    "    \n",
    "    print(f'step {k}')\n",
    "    print(\"current waypoints:\",wn,we,ws,ww)\n",
    "    print(f\"current vals: {comp.n, comp.e, comp.s, comp.w}\")\n",
    "    \n",
    "    ac = c[0]\n",
    "    val = int(c[1:])\n",
    "    \n",
    "    print(f\"action {ac}: {val}\")\n",
    "    \n",
    "    if ac == 'E':\n",
    "        we += val\n",
    "    \n",
    "    elif ac == 'W':\n",
    "        ww += val\n",
    "        \n",
    "    elif ac == 'S':\n",
    "        ws += val\n",
    "    \n",
    "    elif ac == 'N':\n",
    "        wn += val\n",
    "        \n",
    "    elif ac == 'F':\n",
    "        wx, xval, wy, yval = get_waypoint(wn, we, ws, ww)\n",
    "        \n",
    "        add_to_orient2(wx, xval, wy, yval,val)\n",
    "        print(comp)\n",
    "        \n",
    "        \n",
    "        #direction = get_orient(degrees)\n",
    "        #add_to_orient(comp, direction, val)\n",
    "        \n",
    "    \n",
    "    elif ac == 'R':\n",
    "        degrees += val\n",
    "        \n",
    "        print('pre right',wn, we ,ws, ww, degrees)\n",
    "        wn, we ,ws, ww = turn_waypoint(degrees)\n",
    "        print('after right', wn, we ,ws, ww)\n",
    "    \n",
    "    elif ac == 'L':\n",
    "        \n",
    "        \n",
    "        print('pre left turn',wn, we ,ws, ww, degrees)\n",
    "        wn, we ,ws, ww = turn_waypoint(degrees - (degrees + val))\n",
    "        print('left turn',wn, we ,ws, ww)\n",
    "        \n",
    "        degrees -= val\n",
    "    \n",
    "    print('---------------')"
   ]
  },
  {
   "cell_type": "code",
   "execution_count": 416,
   "metadata": {},
   "outputs": [
    {
     "data": {
      "text/plain": [
       "compas(n=656, e=569, s=0, w=0)"
      ]
     },
     "execution_count": 416,
     "metadata": {},
     "output_type": "execute_result"
    }
   ],
   "source": [
    "comp"
   ]
  },
  {
   "cell_type": "code",
   "execution_count": 354,
   "metadata": {},
   "outputs": [
    {
     "data": {
      "text/plain": [
       "('E', 10, 'N', 4, 90)"
      ]
     },
     "execution_count": 354,
     "metadata": {},
     "output_type": "execute_result"
    }
   ],
   "source": [
    "wx, xval, wy, yval, val"
   ]
  },
  {
   "cell_type": "code",
   "execution_count": 369,
   "metadata": {},
   "outputs": [
    {
     "data": {
      "text/plain": [
       "(346, 325, 280, 239)"
      ]
     },
     "execution_count": 369,
     "metadata": {},
     "output_type": "execute_result"
    }
   ],
   "source": [
    "wn,we,ws,ww"
   ]
  },
  {
   "cell_type": "code",
   "execution_count": 389,
   "metadata": {},
   "outputs": [
    {
     "data": {
      "text/plain": [
       "113471"
      ]
     },
     "execution_count": 389,
     "metadata": {},
     "output_type": "execute_result"
    }
   ],
   "source": [
    "comp.calc_hoz() + comp.calc_vert()"
   ]
  },
  {
   "cell_type": "code",
   "execution_count": 388,
   "metadata": {},
   "outputs": [
    {
     "data": {
      "text/plain": [
       "77927"
      ]
     },
     "execution_count": 388,
     "metadata": {},
     "output_type": "execute_result"
    }
   ],
   "source": [
    "comp.calc_hoz()"
   ]
  },
  {
   "cell_type": "code",
   "execution_count": 368,
   "metadata": {},
   "outputs": [
    {
     "data": {
      "text/plain": [
       "compas(n=169118, e=200310, s=194449, w=115698)"
      ]
     },
     "execution_count": 368,
     "metadata": {},
     "output_type": "execute_result"
    }
   ],
   "source": [
    "comp"
   ]
  },
  {
   "cell_type": "code",
   "execution_count": 302,
   "metadata": {},
   "outputs": [],
   "source": [
    "add_to_orient2(wx, xval, wy, yval,val, comp)"
   ]
  },
  {
   "cell_type": "code",
   "execution_count": 303,
   "metadata": {},
   "outputs": [
    {
     "data": {
      "text/plain": [
       "compas(n=0, e=0, s=0, w=0)"
      ]
     },
     "execution_count": 303,
     "metadata": {},
     "output_type": "execute_result"
    }
   ],
   "source": [
    "comp"
   ]
  },
  {
   "cell_type": "code",
   "execution_count": 330,
   "metadata": {},
   "outputs": [
    {
     "data": {
      "text/plain": [
       "(0, 0, 4, 10)"
      ]
     },
     "execution_count": 330,
     "metadata": {},
     "output_type": "execute_result"
    }
   ],
   "source": [
    "turn_waypoint(degrees)"
   ]
  },
  {
   "cell_type": "code",
   "execution_count": 331,
   "metadata": {},
   "outputs": [],
   "source": [
    "degrees = 0"
   ]
  },
  {
   "cell_type": "code",
   "execution_count": 412,
   "metadata": {},
   "outputs": [],
   "source": [
    "wn,we,ws,ww = 1,2,3,4"
   ]
  },
  {
   "cell_type": "code",
   "execution_count": 413,
   "metadata": {},
   "outputs": [],
   "source": [
    "wn,we,ws,ww = turn_waypoint(90)"
   ]
  },
  {
   "cell_type": "code",
   "execution_count": 418,
   "metadata": {},
   "outputs": [
    {
     "data": {
      "text/plain": [
       "(268, 175, 268, 222)"
      ]
     },
     "execution_count": 418,
     "metadata": {},
     "output_type": "execute_result"
    }
   ],
   "source": [
    "wn,we,ws,ww"
   ]
  },
  {
   "cell_type": "code",
   "execution_count": 370,
   "metadata": {},
   "outputs": [
    {
     "data": {
      "text/plain": [
       "('E', 86, 'N', 66)"
      ]
     },
     "execution_count": 370,
     "metadata": {},
     "output_type": "execute_result"
    }
   ],
   "source": [
    "get_waypoint(wn,we,ws,ww)"
   ]
  },
  {
   "cell_type": "code",
   "execution_count": 378,
   "metadata": {},
   "outputs": [
    {
     "data": {
      "text/plain": [
       "(214, 72)"
      ]
     },
     "execution_count": 378,
     "metadata": {},
     "output_type": "execute_result"
    }
   ],
   "source": [
    "comp.calc_hoz(), comp.calc_vert()"
   ]
  },
  {
   "cell_type": "code",
   "execution_count": 419,
   "metadata": {},
   "outputs": [
    {
     "ename": "UnboundLocalError",
     "evalue": "local variable 'hov_c' referenced before assignment",
     "output_type": "error",
     "traceback": [
      "\u001b[0;31m-----------------------------------------------------------------------\u001b[0m",
      "\u001b[0;31mUnboundLocalError\u001b[0m                     Traceback (most recent call last)",
      "\u001b[0;32m<ipython-input-419-573fbb085bb7>\u001b[0m in \u001b[0;36m<module>\u001b[0;34m\u001b[0m\n\u001b[0;32m----> 1\u001b[0;31m \u001b[0mget_waypoint\u001b[0m\u001b[0;34m(\u001b[0m\u001b[0mwn\u001b[0m\u001b[0;34m,\u001b[0m \u001b[0mwe\u001b[0m\u001b[0;34m,\u001b[0m \u001b[0mws\u001b[0m\u001b[0;34m,\u001b[0m \u001b[0mww\u001b[0m\u001b[0;34m)\u001b[0m\u001b[0;34m\u001b[0m\u001b[0;34m\u001b[0m\u001b[0m\n\u001b[0m",
      "\u001b[0;32m<ipython-input-279-54efdeaf1837>\u001b[0m in \u001b[0;36mget_waypoint\u001b[0;34m(wn, we, ws, ww)\u001b[0m\n\u001b[1;32m     13\u001b[0m         \u001b[0mhov_c\u001b[0m \u001b[0;34m=\u001b[0m \u001b[0;34m'N'\u001b[0m\u001b[0;34m\u001b[0m\u001b[0;34m\u001b[0m\u001b[0m\n\u001b[1;32m     14\u001b[0m \u001b[0;34m\u001b[0m\u001b[0m\n\u001b[0;32m---> 15\u001b[0;31m     \u001b[0;32mreturn\u001b[0m \u001b[0mhoz_c\u001b[0m\u001b[0;34m,\u001b[0m \u001b[0mabs\u001b[0m\u001b[0;34m(\u001b[0m\u001b[0mhoz\u001b[0m\u001b[0;34m)\u001b[0m\u001b[0;34m,\u001b[0m \u001b[0mhov_c\u001b[0m\u001b[0;34m,\u001b[0m \u001b[0mabs\u001b[0m\u001b[0;34m(\u001b[0m\u001b[0mhov\u001b[0m\u001b[0;34m)\u001b[0m\u001b[0;34m\u001b[0m\u001b[0;34m\u001b[0m\u001b[0m\n\u001b[0m",
      "\u001b[0;31mUnboundLocalError\u001b[0m: local variable 'hov_c' referenced before assignment"
     ]
    }
   ],
   "source": [
    "get_waypoint(wn, we, ws, ww)"
   ]
  },
  {
   "cell_type": "code",
   "execution_count": 424,
   "metadata": {},
   "outputs": [
    {
     "data": {
      "text/plain": [
       "compas(n=122485, e=162378, s=138941, w=108971)"
      ]
     },
     "execution_count": 424,
     "metadata": {},
     "output_type": "execute_result"
    }
   ],
   "source": [
    "comp"
   ]
  },
  {
   "cell_type": "code",
   "execution_count": 427,
   "metadata": {},
   "outputs": [
    {
     "data": {
      "text/plain": [
       "69863"
      ]
     },
     "execution_count": 427,
     "metadata": {},
     "output_type": "execute_result"
    }
   ],
   "source": [
    "abs(122485 - 138941) + abs(108971 - 162378)"
   ]
  },
  {
   "cell_type": "code",
   "execution_count": null,
   "metadata": {},
   "outputs": [],
   "source": []
  }
 ],
 "metadata": {
  "kernelspec": {
   "display_name": "Python 3",
   "language": "python",
   "name": "python3"
  },
  "language_info": {
   "codemirror_mode": {
    "name": "ipython",
    "version": 3
   },
   "file_extension": ".py",
   "mimetype": "text/x-python",
   "name": "python",
   "nbconvert_exporter": "python",
   "pygments_lexer": "ipython3",
   "version": "3.7.4"
  }
 },
 "nbformat": 4,
 "nbformat_minor": 4
}
