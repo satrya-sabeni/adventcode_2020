{
 "cells": [
  {
   "cell_type": "code",
   "execution_count": 51,
   "metadata": {},
   "outputs": [],
   "source": [
    "from dataclasses import dataclass"
   ]
  },
  {
   "cell_type": "code",
   "execution_count": 113,
   "metadata": {},
   "outputs": [],
   "source": [
    "with open('./input/input_day12.txt') as file:\n",
    "    route = file.read().splitlines()"
   ]
  },
  {
   "cell_type": "code",
   "execution_count": 115,
   "metadata": {},
   "outputs": [
    {
     "data": {
      "text/plain": [
       "['W5', 'N3', 'W4', 'F2', 'N3', 'R180', 'E2', 'S4', 'E5', 'N4']"
      ]
     },
     "execution_count": 115,
     "metadata": {},
     "output_type": "execute_result"
    }
   ],
   "source": [
    "route[:10]"
   ]
  },
  {
   "cell_type": "code",
   "execution_count": 6,
   "metadata": {},
   "outputs": [],
   "source": [
    "coords = [\n",
    "'F10',\n",
    "'N3',\n",
    "'F7',\n",
    "'R90',\n",
    "'F11']"
   ]
  },
  {
   "cell_type": "code",
   "execution_count": 202,
   "metadata": {},
   "outputs": [],
   "source": [
    "@dataclass\n",
    "class compas:\n",
    "    n: int\n",
    "    e: int\n",
    "    s: int\n",
    "    w: int\n",
    "        \n",
    "#     wn: int\n",
    "#     we: int\n",
    "#     ws: int\n",
    "#     ww: int\n",
    "        \n",
    "    def calc_hoz(self):\n",
    "        return abs(self.e - self.w)\n",
    "        \n",
    "    def calc_vert(self):\n",
    "        return abs(self.n - self.s)\n",
    "    \n",
    "   "
   ]
  },
  {
   "cell_type": "code",
   "execution_count": 205,
   "metadata": {},
   "outputs": [
    {
     "data": {
      "text/plain": [
       "(10, -97)"
      ]
     },
     "execution_count": 205,
     "metadata": {},
     "output_type": "execute_result"
    }
   ],
   "source": [
    "wn = 3\n",
    "we = 10\n",
    "ws = 100\n",
    "ww = 0\n",
    "\n",
    "def get_waypoint(wn, we, ws, ww):\n",
    "    hoz = we - ww\n",
    "    hov = wn - ws\n",
    "    \n",
    "    return hoz, hov\n",
    "\n",
    "get_waypoint(wn, we, ws, ww)"
   ]
  },
  {
   "cell_type": "code",
   "execution_count": 158,
   "metadata": {},
   "outputs": [],
   "source": [
    "wn = 3\n",
    "we = 10\n",
    "ws = 0\n",
    "ww = 0\n",
    "        \n",
    "degrees = 0\n",
    "comp = compas(0,0,0,0)\n",
    "\n",
    "for c in route:\n",
    "    ac = c[0]\n",
    "    val = int(c[1:])\n",
    "    \n",
    "    if ac == 'E':\n",
    "        comp.e += val\n",
    "    \n",
    "    elif ac == 'W':\n",
    "        comp.w += val\n",
    "        \n",
    "    elif ac == 'S':\n",
    "        comp.s += val\n",
    "    \n",
    "    elif ac == 'N':\n",
    "        comp.n += val\n",
    "        \n",
    "    elif ac == 'F':\n",
    "        direction = get_orient(degrees)\n",
    "        add_to_orient(comp, direction, val)\n",
    "    \n",
    "    elif ac == 'R':\n",
    "        degrees += val\n",
    "    \n",
    "    elif ac == 'L':\n",
    "        degrees -= val\n",
    "        "
   ]
  },
  {
   "cell_type": "code",
   "execution_count": 159,
   "metadata": {},
   "outputs": [
    {
     "data": {
      "text/plain": [
       "compas(n=2659, e=1810, s=2382, w=3066)"
      ]
     },
     "execution_count": 159,
     "metadata": {},
     "output_type": "execute_result"
    }
   ],
   "source": [
    "comp"
   ]
  },
  {
   "cell_type": "code",
   "execution_count": 160,
   "metadata": {},
   "outputs": [
    {
     "data": {
      "text/plain": [
       "(1256, 277)"
      ]
     },
     "execution_count": 160,
     "metadata": {},
     "output_type": "execute_result"
    }
   ],
   "source": [
    "comp.calc_hoz(), comp.calc_vert()"
   ]
  },
  {
   "cell_type": "code",
   "execution_count": 161,
   "metadata": {},
   "outputs": [
    {
     "data": {
      "text/plain": [
       "1533"
      ]
     },
     "execution_count": 161,
     "metadata": {},
     "output_type": "execute_result"
    }
   ],
   "source": [
    "1256 + 277"
   ]
  },
  {
   "cell_type": "code",
   "execution_count": 74,
   "metadata": {},
   "outputs": [
    {
     "data": {
      "text/plain": [
       "'N'"
      ]
     },
     "execution_count": 74,
     "metadata": {},
     "output_type": "execute_result"
    }
   ],
   "source": [
    "get_orient(90)"
   ]
  },
  {
   "cell_type": "code",
   "execution_count": 76,
   "metadata": {},
   "outputs": [],
   "source": [
    "add_to_orient(comp, 'S', 23)"
   ]
  },
  {
   "cell_type": "code",
   "execution_count": 150,
   "metadata": {},
   "outputs": [],
   "source": [
    "def get_orient(_degree):\n",
    "    \n",
    "    rdegree = _degree / 360\n",
    "    degree = rdegree % 1\n",
    "    \n",
    "    if degree == 0:\n",
    "        return 'E'\n",
    "    elif degree == 0.25:\n",
    "        return 'S'\n",
    "    elif degree == 0.5:\n",
    "        return 'W'\n",
    "    elif degree == 0.75:\n",
    "        return 'N'\n"
   ]
  },
  {
   "cell_type": "code",
   "execution_count": 79,
   "metadata": {},
   "outputs": [],
   "source": [
    "def add_to_orient(_omp, orient, val):\n",
    "    if orient == 'N':\n",
    "        comp.n += val\n",
    "    elif orient == 'E':\n",
    "        comp.e += val\n",
    "    elif orient == 'S':\n",
    "        comp.s += val\n",
    "    elif orient == 'W':\n",
    "        comp.w += val"
   ]
  },
  {
   "cell_type": "code",
   "execution_count": 314,
   "metadata": {},
   "outputs": [],
   "source": [
    "def add_to_orient2(wx, xval, wy, yval, val):\n",
    "    if wx == 'E':\n",
    "        comp.e += (val * xval)\n",
    "    elif wx == 'W':\n",
    "        comp.w += (val * xval)\n",
    "    \n",
    "    if wy == 'N':\n",
    "        comp.n += (val * yval)\n",
    "    elif wy == 'S':\n",
    "        comp.s += (val * yval)"
   ]
  },
  {
   "cell_type": "code",
   "execution_count": 348,
   "metadata": {},
   "outputs": [],
   "source": [
    "def turn_waypoint(_degree):\n",
    "    # map of current situation\n",
    "    currentw = {k: w for w, k in zip([wn, we, ws, ww],[0.75, 0, 0.25, 0.5]) }\n",
    "    \n",
    "    rdegree = _degree / 360\n",
    "    turns = rdegree % 1\n",
    "    \n",
    "    new_n = (curpolmap['N'] - turns) % 1\n",
    "    new_e = (curpolmap['E'] - turns) % 1\n",
    "    new_s = (curpolmap['S'] - turns) % 1\n",
    "    new_w = (curpolmap['W'] - turns) % 1\n",
    "    \n",
    "    print(currentw)\n",
    "    print(new_n, new_e, new_w, new_s)\n",
    "    \n",
    "    return currentw[new_n],currentw[new_e],currentw[new_s],currentw[new_w]\n",
    "    \n",
    "#     print(f'n: {currentw[new_n]}')\n",
    "#     print(f'e: {currentw[new_e]}')\n",
    "#     print(f's: {currentw[new_s]}')\n",
    "#     print(f'w: {currentw[new_w]}')"
   ]
  },
  {
   "cell_type": "code",
   "execution_count": 180,
   "metadata": {},
   "outputs": [],
   "source": [
    "newpolmap = {0: 'E', 0.25: 'S', 0.5: 'W', 0.75: 'N'}"
   ]
  },
  {
   "cell_type": "code",
   "execution_count": 181,
   "metadata": {},
   "outputs": [],
   "source": [
    "curpolmap = {'E': 0, 'S': 0.25, 'W': 0.5, 'N': 0.75}"
   ]
  },
  {
   "cell_type": "code",
   "execution_count": 259,
   "metadata": {},
   "outputs": [],
   "source": [
    "wn, we ,ws, ww = turn_waypoint(180)"
   ]
  },
  {
   "cell_type": "code",
   "execution_count": 327,
   "metadata": {},
   "outputs": [
    {
     "data": {
      "text/plain": [
       "0.25"
      ]
     },
     "execution_count": 327,
     "metadata": {},
     "output_type": "execute_result"
    }
   ],
   "source": [
    "0.25 % 1"
   ]
  },
  {
   "cell_type": "code",
   "execution_count": 279,
   "metadata": {},
   "outputs": [],
   "source": [
    "def get_waypoint(wn, we, ws, ww):\n",
    "    hoz = we - ww\n",
    "    hov = wn - ws\n",
    "    \n",
    "    if hoz < 0:\n",
    "        hoz_c = 'W'\n",
    "    elif hoz > 0:\n",
    "        hoz_c = 'E'\n",
    "        \n",
    "    if hov < 0:\n",
    "        hov_c = 'S'\n",
    "    elif hov > 0:\n",
    "        hov_c = 'N'\n",
    "        \n",
    "    return hoz_c, abs(hoz), hov_c, abs(hov)"
   ]
  },
  {
   "cell_type": "code",
   "execution_count": 260,
   "metadata": {},
   "outputs": [
    {
     "data": {
      "text/plain": [
       "(3, 10, 0, 0)"
      ]
     },
     "execution_count": 260,
     "metadata": {},
     "output_type": "execute_result"
    }
   ],
   "source": [
    "wn, we, ws, ww"
   ]
  },
  {
   "cell_type": "code",
   "execution_count": 285,
   "metadata": {},
   "outputs": [
    {
     "data": {
      "text/plain": [
       "('W', 6, 'N', 10)"
      ]
     },
     "execution_count": 285,
     "metadata": {},
     "output_type": "execute_result"
    }
   ],
   "source": [
    "get_waypoint(wn, we, ws, ww)\n"
   ]
  },
  {
   "cell_type": "code",
   "execution_count": 245,
   "metadata": {},
   "outputs": [],
   "source": [
    "x"
   ]
  },
  {
   "cell_type": "code",
   "execution_count": null,
   "metadata": {},
   "outputs": [],
   "source": []
  },
  {
   "cell_type": "code",
   "execution_count": null,
   "metadata": {},
   "outputs": [],
   "source": []
  },
  {
   "cell_type": "code",
   "execution_count": null,
   "metadata": {},
   "outputs": [],
   "source": []
  },
  {
   "cell_type": "markdown",
   "metadata": {},
   "source": [
    "## part 2"
   ]
  },
  {
   "cell_type": "code",
   "execution_count": 226,
   "metadata": {},
   "outputs": [
    {
     "data": {
      "text/plain": [
       "['F10', 'N3', 'F7', 'R90', 'F11']"
      ]
     },
     "execution_count": 226,
     "metadata": {},
     "output_type": "execute_result"
    }
   ],
   "source": [
    "coords"
   ]
  },
  {
   "cell_type": "code",
   "execution_count": 356,
   "metadata": {},
   "outputs": [
    {
     "name": "stdout",
     "output_type": "stream",
     "text": [
      "1 10 0 0\n",
      "4 10 0 0\n",
      "{0.75: 4, 0: 10, 0.25: 0, 0.5: 0}\n",
      "0.5 0.75 0.25 0.0\n",
      "0 4 10 0\n"
     ]
    }
   ],
   "source": [
    "wn = 1\n",
    "we = 10\n",
    "ws = 0\n",
    "ww = 0\n",
    "        \n",
    "degrees = 0\n",
    "comp = compas(0,0,0,0)\n",
    "\n",
    "\n",
    "for c in coords:\n",
    "    ac = c[0]\n",
    "    val = int(c[1:])\n",
    "    \n",
    "    if ac == 'E':\n",
    "        we += val\n",
    "    \n",
    "    elif ac == 'W':\n",
    "        ww += val\n",
    "        \n",
    "    elif ac == 'S':\n",
    "        ws += val\n",
    "    \n",
    "    elif ac == 'N':\n",
    "        wn += val\n",
    "        \n",
    "    elif ac == 'F':\n",
    "        print(wn,we,ws,ww)\n",
    "        wx, xval, wy, yval = get_waypoint(wn, we, ws, ww)\n",
    "        add_to_orient2(wx, xval, wy, yval,val)\n",
    "        \n",
    "        #direction = get_orient(degrees)\n",
    "        #add_to_orient(comp, direction, val)\n",
    "        \n",
    "    \n",
    "    elif ac == 'R':\n",
    "        degrees += val\n",
    "        wn, we ,ws, ww = turn_waypoint(degrees)\n",
    "    \n",
    "    elif ac == 'L':\n",
    "        degrees -= val\n",
    "        wn, we ,ws, ww = turn_waypoint(degrees)"
   ]
  },
  {
   "cell_type": "code",
   "execution_count": 357,
   "metadata": {},
   "outputs": [
    {
     "data": {
      "text/plain": [
       "compas(n=38, e=214, s=110, w=0)"
      ]
     },
     "execution_count": 357,
     "metadata": {},
     "output_type": "execute_result"
    }
   ],
   "source": [
    "comp"
   ]
  },
  {
   "cell_type": "code",
   "execution_count": 354,
   "metadata": {},
   "outputs": [
    {
     "data": {
      "text/plain": [
       "('E', 10, 'N', 4, 90)"
      ]
     },
     "execution_count": 354,
     "metadata": {},
     "output_type": "execute_result"
    }
   ],
   "source": [
    "wx, xval, wy, yval, val"
   ]
  },
  {
   "cell_type": "code",
   "execution_count": 355,
   "metadata": {},
   "outputs": [
    {
     "data": {
      "text/plain": [
       "(0, 4, 10, 0)"
      ]
     },
     "execution_count": 355,
     "metadata": {},
     "output_type": "execute_result"
    }
   ],
   "source": [
    "wn,we,ws,ww"
   ]
  },
  {
   "cell_type": "code",
   "execution_count": 326,
   "metadata": {},
   "outputs": [
    {
     "data": {
      "text/plain": [
       "90"
      ]
     },
     "execution_count": 326,
     "metadata": {},
     "output_type": "execute_result"
    }
   ],
   "source": [
    "degrees"
   ]
  },
  {
   "cell_type": "code",
   "execution_count": 298,
   "metadata": {},
   "outputs": [
    {
     "data": {
      "text/plain": [
       "compas(n=0, e=0, s=0, w=0)"
      ]
     },
     "execution_count": 298,
     "metadata": {},
     "output_type": "execute_result"
    }
   ],
   "source": [
    "comp"
   ]
  },
  {
   "cell_type": "code",
   "execution_count": 302,
   "metadata": {},
   "outputs": [],
   "source": [
    "add_to_orient2(wx, xval, wy, yval,val, comp)"
   ]
  },
  {
   "cell_type": "code",
   "execution_count": 303,
   "metadata": {},
   "outputs": [
    {
     "data": {
      "text/plain": [
       "compas(n=0, e=0, s=0, w=0)"
      ]
     },
     "execution_count": 303,
     "metadata": {},
     "output_type": "execute_result"
    }
   ],
   "source": [
    "comp"
   ]
  },
  {
   "cell_type": "code",
   "execution_count": 330,
   "metadata": {},
   "outputs": [
    {
     "data": {
      "text/plain": [
       "(0, 0, 4, 10)"
      ]
     },
     "execution_count": 330,
     "metadata": {},
     "output_type": "execute_result"
    }
   ],
   "source": [
    "turn_waypoint(degrees)"
   ]
  },
  {
   "cell_type": "code",
   "execution_count": 331,
   "metadata": {},
   "outputs": [],
   "source": [
    "degrees = 0"
   ]
  },
  {
   "cell_type": "code",
   "execution_count": 358,
   "metadata": {},
   "outputs": [],
   "source": [
    "wn,we,ws,ww = 1,2,3,4"
   ]
  },
  {
   "cell_type": "code",
   "execution_count": 359,
   "metadata": {},
   "outputs": [
    {
     "name": "stdout",
     "output_type": "stream",
     "text": [
      "{0.75: 1, 0: 2, 0.25: 3, 0.5: 4}\n",
      "0.0 0.25 0.75 0.5\n"
     ]
    }
   ],
   "source": [
    "wn,we,ws,ww = turn_waypoint(-90)"
   ]
  },
  {
   "cell_type": "code",
   "execution_count": 360,
   "metadata": {},
   "outputs": [
    {
     "data": {
      "text/plain": [
       "(2, 3, 4, 1)"
      ]
     },
     "execution_count": 360,
     "metadata": {},
     "output_type": "execute_result"
    }
   ],
   "source": [
    "wn,we,ws,ww"
   ]
  },
  {
   "cell_type": "code",
   "execution_count": null,
   "metadata": {},
   "outputs": [],
   "source": []
  }
 ],
 "metadata": {
  "kernelspec": {
   "display_name": "Python 3",
   "language": "python",
   "name": "python3"
  },
  "language_info": {
   "codemirror_mode": {
    "name": "ipython",
    "version": 3
   },
   "file_extension": ".py",
   "mimetype": "text/x-python",
   "name": "python",
   "nbconvert_exporter": "python",
   "pygments_lexer": "ipython3",
   "version": "3.7.4"
  }
 },
 "nbformat": 4,
 "nbformat_minor": 4
}
