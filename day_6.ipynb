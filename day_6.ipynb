{
 "cells": [
  {
   "cell_type": "code",
   "execution_count": 2,
   "metadata": {},
   "outputs": [],
   "source": [
    "with open('input/input_day6.txt') as file:\n",
    "    answers = file.read().splitlines() "
   ]
  },
  {
   "cell_type": "code",
   "execution_count": 25,
   "metadata": {},
   "outputs": [
    {
     "data": {
      "text/plain": [
       "['fkpueoxactsrgqyvhbijn',\n",
       " 'iynrufeagqxokpbhtcsjv',\n",
       " 'drqjyepacthxknigbvsuof',\n",
       " 'gbotjfyiaqhvuxpksecnr',\n",
       " 'ktfejiyncvgsqpobhxwrua',\n",
       " '',\n",
       " 'bzny',\n",
       " 'nyozb',\n",
       " 'ybzn',\n",
       " '',\n",
       " 'xtnjpebhdgfok',\n",
       " 'spjhxgkobdfen',\n",
       " 'xhejtdisgofbkpn',\n",
       " 'kphromvbdqecuawnjxg',\n",
       " '']"
      ]
     },
     "execution_count": 25,
     "metadata": {},
     "output_type": "execute_result"
    }
   ],
   "source": [
    "answers[:15]"
   ]
  },
  {
   "cell_type": "code",
   "execution_count": 4,
   "metadata": {},
   "outputs": [],
   "source": [
    "answers.append('')"
   ]
  },
  {
   "cell_type": "code",
   "execution_count": 19,
   "metadata": {},
   "outputs": [],
   "source": [
    "anslist = []\n",
    "ans = ''\n",
    "for a in answers:\n",
    "    if a != '':\n",
    "        ans += a\n",
    "    else:\n",
    "        anslist.append(ans)\n",
    "        ans = ''"
   ]
  },
  {
   "cell_type": "code",
   "execution_count": 20,
   "metadata": {},
   "outputs": [
    {
     "data": {
      "text/plain": [
       "['fkpueoxactsrgqyvhbijniynrufeagqxokpbhtcsjvdrqjyepacthxknigbvsuofgbotjfyiaqhvuxpksecnrktfejiyncvgsqpobhxwrua',\n",
       " 'bznynyozbybzn',\n",
       " 'xtnjpebhdgfokspjhxgkobdfenxhejtdisgofbkpnkphromvbdqecuawnjxg',\n",
       " 'qhkbnovmdfawggfbhwqodvnanoudvhfagqjlbwnbvodhkfamqwg',\n",
       " 'sdbeyzaisydeadmoyaqwse']"
      ]
     },
     "execution_count": 20,
     "metadata": {},
     "output_type": "execute_result"
    }
   ],
   "source": [
    "anslist[:5]"
   ]
  },
  {
   "cell_type": "code",
   "execution_count": 15,
   "metadata": {},
   "outputs": [],
   "source": [
    "anslist2 = []\n",
    "ans = []\n",
    "for a in answers:\n",
    "    if a != '':\n",
    "        ans.append(a)\n",
    "    else:\n",
    "        anslist2.append(ans)\n",
    "        ans = []"
   ]
  },
  {
   "cell_type": "code",
   "execution_count": 16,
   "metadata": {},
   "outputs": [
    {
     "data": {
      "text/plain": [
       "[['fkpueoxactsrgqyvhbijn',\n",
       "  'iynrufeagqxokpbhtcsjv',\n",
       "  'drqjyepacthxknigbvsuof',\n",
       "  'gbotjfyiaqhvuxpksecnr',\n",
       "  'ktfejiyncvgsqpobhxwrua'],\n",
       " ['bzny', 'nyozb', 'ybzn'],\n",
       " ['xtnjpebhdgfok', 'spjhxgkobdfen', 'xhejtdisgofbkpn', 'kphromvbdqecuawnjxg'],\n",
       " ['qhkbnovmdfawg', 'gfbhwqodvna', 'noudvhfagqjlbw', 'nbvodhkfamqwg'],\n",
       " ['sdbeyza', 'isydea', 'dmoyaqwse']]"
      ]
     },
     "execution_count": 16,
     "metadata": {},
     "output_type": "execute_result"
    }
   ],
   "source": [
    "anslist2[:5]"
   ]
  },
  {
   "cell_type": "code",
   "execution_count": 46,
   "metadata": {},
   "outputs": [],
   "source": [
    "uniq_ans = []\n",
    "for ans in anslist:\n",
    "    uniq = { c for c in ans }\n",
    "    uniq_ans.append(uniq)"
   ]
  },
  {
   "cell_type": "code",
   "execution_count": 49,
   "metadata": {},
   "outputs": [
    {
     "data": {
      "text/plain": [
       "483"
      ]
     },
     "execution_count": 49,
     "metadata": {},
     "output_type": "execute_result"
    }
   ],
   "source": [
    "len(uniq_ans)"
   ]
  },
  {
   "cell_type": "code",
   "execution_count": 23,
   "metadata": {},
   "outputs": [
    {
     "data": {
      "text/plain": [
       "(483, 483)"
      ]
     },
     "execution_count": 23,
     "metadata": {},
     "output_type": "execute_result"
    }
   ],
   "source": [
    "len(uniq_ans), len(anslist2)"
   ]
  },
  {
   "cell_type": "code",
   "execution_count": 57,
   "metadata": {},
   "outputs": [],
   "source": [
    "total = 0\n",
    "for k in range(len(anslist)):\n",
    "    \n",
    "    anwerers = len(anslist2[k])\n",
    "    all_ans = anslist[k]\n",
    "    for char in uniq_ans[k]:\n",
    "        # print(char, all_ans.count(char))\n",
    "        if all_ans.count(char) == anwerers:\n",
    "            total += 1\n",
    "    # print('-----')"
   ]
  },
  {
   "cell_type": "code",
   "execution_count": 58,
   "metadata": {},
   "outputs": [
    {
     "data": {
      "text/plain": [
       "3437"
      ]
     },
     "execution_count": 58,
     "metadata": {},
     "output_type": "execute_result"
    }
   ],
   "source": [
    "total"
   ]
  },
  {
   "cell_type": "code",
   "execution_count": 38,
   "metadata": {},
   "outputs": [
    {
     "data": {
      "text/plain": [
       "{'a', 'd', 'f', 'i', 'j', 'l', 'm', 'p', 'v', 'z'}"
      ]
     },
     "execution_count": 38,
     "metadata": {},
     "output_type": "execute_result"
    }
   ],
   "source": [
    "uniq"
   ]
  },
  {
   "cell_type": "code",
   "execution_count": 41,
   "metadata": {},
   "outputs": [
    {
     "data": {
      "text/plain": [
       "['fkpueoxactsrgqyvhbijniynrufeagqxokpbhtcsjvdrqjyepacthxknigbvsuofgbotjfyiaqhvuxpksecnrktfejiyncvgsqpobhxwrua',\n",
       " 'bznynyozbybzn',\n",
       " 'xtnjpebhdgfokspjhxgkobdfenxhejtdisgofbkpnkphromvbdqecuawnjxg',\n",
       " 'qhkbnovmdfawggfbhwqodvnanoudvhfagqjlbwnbvodhkfamqwg',\n",
       " 'sdbeyzaisydeadmoyaqwse']"
      ]
     },
     "execution_count": 41,
     "metadata": {},
     "output_type": "execute_result"
    }
   ],
   "source": [
    "anslist[:5]"
   ]
  },
  {
   "cell_type": "code",
   "execution_count": 43,
   "metadata": {},
   "outputs": [
    {
     "data": {
      "text/plain": [
       "[['fkpueoxactsrgqyvhbijn',\n",
       "  'iynrufeagqxokpbhtcsjv',\n",
       "  'drqjyepacthxknigbvsuof',\n",
       "  'gbotjfyiaqhvuxpksecnr',\n",
       "  'ktfejiyncvgsqpobhxwrua'],\n",
       " ['bzny', 'nyozb', 'ybzn'],\n",
       " ['xtnjpebhdgfok', 'spjhxgkobdfen', 'xhejtdisgofbkpn', 'kphromvbdqecuawnjxg'],\n",
       " ['qhkbnovmdfawg', 'gfbhwqodvna', 'noudvhfagqjlbw', 'nbvodhkfamqwg'],\n",
       " ['sdbeyza', 'isydea', 'dmoyaqwse']]"
      ]
     },
     "execution_count": 43,
     "metadata": {},
     "output_type": "execute_result"
    }
   ],
   "source": [
    "anslist2[:5]"
   ]
  },
  {
   "cell_type": "code",
   "execution_count": null,
   "metadata": {},
   "outputs": [],
   "source": []
  }
 ],
 "metadata": {
  "kernelspec": {
   "display_name": "venv",
   "language": "python",
   "name": "venv"
  },
  "language_info": {
   "codemirror_mode": {
    "name": "ipython",
    "version": 3
   },
   "file_extension": ".py",
   "mimetype": "text/x-python",
   "name": "python",
   "nbconvert_exporter": "python",
   "pygments_lexer": "ipython3",
   "version": "3.7.4"
  }
 },
 "nbformat": 4,
 "nbformat_minor": 4
}
