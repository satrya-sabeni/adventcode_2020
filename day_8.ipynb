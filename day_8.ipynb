{
 "cells": [
  {
   "cell_type": "code",
   "execution_count": 133,
   "metadata": {},
   "outputs": [],
   "source": [
    "import copy"
   ]
  },
  {
   "cell_type": "code",
   "execution_count": 11,
   "metadata": {},
   "outputs": [],
   "source": [
    "with open('input/input_day8.txt') as file:\n",
    "    game = file.read().splitlines()"
   ]
  },
  {
   "cell_type": "code",
   "execution_count": 13,
   "metadata": {},
   "outputs": [
    {
     "data": {
      "text/plain": [
       "['acc +3', 'jmp +599', 'nop +311', 'jmp +605', 'acc -3']"
      ]
     },
     "execution_count": 13,
     "metadata": {},
     "output_type": "execute_result"
    }
   ],
   "source": [
    "game[:5]"
   ]
  },
  {
   "cell_type": "code",
   "execution_count": 136,
   "metadata": {},
   "outputs": [],
   "source": [
    "run = [[l.split(' ')[0], eval(l.split(' ')[1])] for l in game]"
   ]
  },
  {
   "cell_type": "code",
   "execution_count": 137,
   "metadata": {},
   "outputs": [],
   "source": [
    "_program = {}\n",
    "for k, line in enumerate(run):\n",
    "    _program[k] = line"
   ]
  },
  {
   "cell_type": "code",
   "execution_count": 141,
   "metadata": {},
   "outputs": [
    {
     "name": "stdout",
     "output_type": "stream",
     "text": [
      "['acc', 3]\n",
      "['jmp', 599]\n",
      "['nop', 311]\n",
      "['jmp', 605]\n",
      "['acc', -3]\n",
      "['acc', 50]\n",
      "['acc', -6]\n",
      "['jmp', 461]\n",
      "['jmp', -4]\n",
      "['acc', -7]\n"
     ]
    }
   ],
   "source": [
    "for i in range(10):\n",
    "    print(_program[i])"
   ]
  },
  {
   "cell_type": "code",
   "execution_count": 139,
   "metadata": {},
   "outputs": [],
   "source": [
    "program = copy.deepcopy(_program)"
   ]
  },
  {
   "cell_type": "code",
   "execution_count": 140,
   "metadata": {},
   "outputs": [],
   "source": [
    "program[0][0]= 'dfdfdf'"
   ]
  },
  {
   "cell_type": "code",
   "execution_count": null,
   "metadata": {},
   "outputs": [],
   "source": []
  },
  {
   "cell_type": "code",
   "execution_count": 73,
   "metadata": {
    "collapsed": true,
    "jupyter": {
     "outputs_hidden": true
    }
   },
   "outputs": [
    {
     "name": "stdout",
     "output_type": "stream",
     "text": [
      "['acc', 3] 0 0\n",
      "['jmp', 599] 1 3\n",
      "['jmp', -397] 600 3\n",
      "['acc', -18] 203 3\n",
      "['nop', 384] 204 -15\n",
      "['acc', 28] 205 -15\n",
      "['jmp', -98] 206 13\n",
      "['acc', 45] 108 13\n",
      "['acc', 36] 109 58\n",
      "['jmp', -68] 110 94\n",
      "['nop', 147] 42 94\n",
      "['jmp', -15] 43 94\n",
      "['acc', 8] 28 94\n",
      "['jmp', 55] 29 102\n",
      "['nop', 464] 84 102\n",
      "['jmp', 463] 85 102\n",
      "['acc', -5] 548 102\n",
      "['nop', -123] 549 97\n",
      "['acc', 49] 550 97\n",
      "['acc', 36] 551 146\n",
      "['jmp', -145] 552 182\n",
      "['acc', 3] 407 182\n",
      "['acc', 24] 408 185\n",
      "['jmp', 13] 409 209\n",
      "['nop', -332] 422 209\n",
      "['nop', 177] 423 209\n",
      "['jmp', 109] 424 209\n",
      "['jmp', 49] 533 209\n",
      "['acc', 42] 582 209\n",
      "['acc', -8] 583 251\n",
      "['jmp', -104] 584 243\n",
      "['acc', 26] 480 243\n",
      "['jmp', -391] 481 269\n",
      "['acc', 42] 90 269\n",
      "['jmp', 1] 91 311\n",
      "['jmp', 444] 92 311\n",
      "['acc', 36] 536 311\n",
      "['acc', 41] 537 347\n",
      "['nop', -286] 538 388\n",
      "['acc', -19] 539 388\n",
      "['jmp', -142] 540 369\n",
      "['jmp', -77] 398 369\n",
      "['acc', 40] 321 369\n",
      "['jmp', 80] 322 409\n",
      "['acc', -1] 402 409\n",
      "['acc', 11] 403 408\n",
      "['acc', -6] 404 419\n",
      "['jmp', -334] 405 413\n",
      "['nop', 502] 71 413\n",
      "['acc', 26] 72 413\n",
      "['acc', -3] 73 439\n",
      "['jmp', 96] 74 436\n",
      "['acc', -8] 170 436\n",
      "['acc', -10] 171 428\n",
      "['acc', 15] 172 418\n",
      "['acc', 39] 173 433\n",
      "['jmp', 166] 174 472\n",
      "['nop', -278] 340 472\n",
      "['acc', 29] 341 472\n",
      "['acc', -14] 342 501\n",
      "['jmp', -297] 343 487\n",
      "['acc', 34] 46 487\n",
      "['acc', 27] 47 521\n",
      "['jmp', -25] 48 548\n",
      "['jmp', 202] 23 548\n",
      "['acc', -14] 225 548\n",
      "['jmp', 287] 226 534\n",
      "['acc', -2] 513 534\n",
      "['acc', 41] 514 532\n",
      "['acc', -5] 515 573\n",
      "['jmp', -410] 516 568\n",
      "['jmp', 388] 106 568\n",
      "['jmp', 1] 494 568\n",
      "['jmp', -365] 495 568\n",
      "['jmp', 152] 130 568\n",
      "['acc', 6] 282 568\n",
      "['jmp', -185] 283 574\n",
      "['jmp', 410] 98 574\n",
      "['acc', -1] 508 574\n",
      "['acc', 20] 509 573\n",
      "['acc', 44] 510 593\n",
      "['jmp', 50] 511 637\n",
      "['jmp', -316] 561 637\n",
      "['acc', 21] 245 637\n",
      "['acc', 30] 246 658\n",
      "['nop', 347] 247 688\n",
      "['acc', 34] 248 688\n",
      "['jmp', -240] 249 722\n",
      "['acc', -7] 9 722\n",
      "['jmp', 1] 10 715\n",
      "['acc', 19] 11 715\n",
      "['acc', -18] 12 734\n",
      "['jmp', 485] 13 716\n",
      "['acc', 42] 498 716\n",
      "['nop', -289] 499 758\n",
      "['acc', 21] 500 758\n",
      "['acc', -17] 501 779\n",
      "['jmp', -440] 502 762\n",
      "['acc', 47] 62 762\n",
      "['acc', 43] 63 809\n",
      "['acc', 42] 64 852\n",
      "['nop', 263] 65 894\n",
      "['jmp', 144] 66 894\n",
      "['acc', 22] 210 894\n",
      "['acc', 4] 211 916\n",
      "['acc', 12] 212 920\n",
      "['jmp', 421] 213 932\n",
      "['jmp', -510] 634 932\n",
      "['acc', 17] 124 932\n",
      "['acc', 8] 125 949\n",
      "['jmp', 22] 126 957\n",
      "['acc', -15] 148 957\n",
      "['nop', 478] 149 942\n",
      "['acc', -17] 150 942\n",
      "['jmp', 13] 151 925\n",
      "['acc', 39] 164 925\n",
      "['nop', 435] 165 964\n",
      "['jmp', 388] 166 964\n",
      "['jmp', 48] 554 964\n",
      "['jmp', -215] 602 964\n",
      "['acc', 20] 387 964\n",
      "['acc', 36] 388 984\n",
      "['jmp', 156] 389 1020\n",
      "['acc', 17] 545 1020\n",
      "['jmp', -327] 546 1037\n",
      "['acc', 39] 219 1037\n",
      "['nop', 217] 220 1076\n",
      "['nop', 31] 221 1076\n",
      "['acc', 17] 222 1076\n",
      "['jmp', -189] 223 1093\n",
      "['acc', -5] 34 1093\n",
      "['acc', 38] 35 1088\n",
      "['acc', -16] 36 1126\n",
      "['nop', 111] 37 1110\n",
      "['jmp', 230] 38 1110\n",
      "['acc', 14] 268 1110\n",
      "['acc', 30] 269 1124\n",
      "['jmp', 167] 270 1154\n",
      "['acc', 41] 437 1154\n",
      "['nop', -381] 438 1195\n",
      "['acc', -4] 439 1195\n",
      "['nop', -270] 440 1191\n",
      "['jmp', -328] 441 1191\n",
      "['acc', -19] 113 1191\n",
      "['acc', 1] 114 1172\n",
      "['acc', -8] 115 1173\n",
      "['jmp', 1] 116 1165\n",
      "['jmp', 479] 117 1165\n",
      "['acc', 1] 596 1165\n",
      "['jmp', -227] 597 1166\n",
      "['acc', 5] 370 1166\n",
      "['acc', 8] 371 1171\n",
      "['jmp', 255] 372 1179\n",
      "['acc', 14] 627 1179\n",
      "['acc', 40] 628 1193\n",
      "['acc', 0] 629 1233\n",
      "['jmp', -614] 630 1233\n",
      "['acc', 41] 16 1233\n",
      "['acc', 10] 17 1274\n",
      "['nop', 570] 18 1284\n",
      "['jmp', 428] 19 1284\n",
      "['jmp', 1] 447 1284\n",
      "['nop', -91] 448 1284\n",
      "['jmp', -197] 449 1284\n",
      "['acc', 48] 252 1284\n",
      "['acc', 43] 253 1332\n",
      "['acc', 4] 254 1375\n",
      "['nop', 266] 255 1379\n",
      "['jmp', 72] 256 1379\n",
      "['acc', 32] 328 1379\n",
      "['acc', -5] 329 1411\n",
      "['jmp', -99] 330 1406\n",
      "['acc', 26] 231 1406\n",
      "['acc', -14] 232 1432\n",
      "['acc', 24] 233 1418\n",
      "['acc', -2] 234 1442\n",
      "['jmp', -181] 235 1440\n",
      "['jmp', 474] 54 1440\n",
      "['jmp', -151] 528 1440\n",
      "['acc', 32] 377 1440\n",
      "['acc', 37] 378 1472\n",
      "['acc', 9] 379 1509\n",
      "['jmp', 1] 380 1518\n",
      "['jmp', -302] 381 1518\n",
      "['nop', 189] 79 1518\n",
      "['jmp', 533] 80 1518\n",
      "['acc', 7] 613 1518\n",
      "['acc', 40] 614 1525\n",
      "['acc', 23] 615 1565\n",
      "['nop', -122] 616 1588\n",
      "['jmp', -567] 617 1588\n",
      "['acc', 8] 50 1588\n",
      "['nop', 28] 51 1596\n",
      "['jmp', 515] 52 1596\n",
      "['jmp', -10] 567 1596\n",
      "['jmp', -97] 557 1596\n",
      "['acc', -1] 460 1596\n",
      "['acc', -11] 461 1595\n",
      "['acc', 2] 462 1584\n",
      "['jmp', -355] 463 1586\n"
     ]
    }
   ],
   "source": [
    "visited = []\n",
    "acc = 0\n",
    "index = 0\n",
    "\n",
    "while True:\n",
    "\n",
    "    if program[index][0] == 'acc':\n",
    "        \n",
    "        print(program[index], index, acc)\n",
    "        \n",
    "        acc += program[index][1]\n",
    "        index += 1\n",
    "        if index in visited: break\n",
    "        visited.append(index)\n",
    "        \n",
    "        continue\n",
    "        \n",
    "    elif program[index][0] == 'jmp':\n",
    "        \n",
    "        print(program[index], index, acc)\n",
    "        \n",
    "        index += program[index][1]\n",
    "        if index in visited: break\n",
    "        visited.append(index)\n",
    "        \n",
    "        continue\n",
    "        \n",
    "    elif  program[index][0] == 'nop':\n",
    "        \n",
    "        print(program[index], index, acc)\n",
    "        \n",
    "        index += 1\n",
    "        if index in visited: break\n",
    "        visited.append(index)\n",
    "        \n",
    "        continue"
   ]
  },
  {
   "cell_type": "code",
   "execution_count": 64,
   "metadata": {},
   "outputs": [
    {
     "name": "stdout",
     "output_type": "stream",
     "text": [
      "7\n"
     ]
    }
   ],
   "source": [
    "if (1 == 1): print(7)"
   ]
  },
  {
   "cell_type": "code",
   "execution_count": 45,
   "metadata": {},
   "outputs": [
    {
     "data": {
      "text/plain": [
       "50"
      ]
     },
     "execution_count": 45,
     "metadata": {},
     "output_type": "execute_result"
    }
   ],
   "source": [
    "program[index][1]"
   ]
  },
  {
   "cell_type": "markdown",
   "metadata": {},
   "source": [
    "## part 2"
   ]
  },
  {
   "cell_type": "code",
   "execution_count": 153,
   "metadata": {},
   "outputs": [],
   "source": [
    "#jmp index \n",
    "jump_inds = list(filter(lambda x:x[1][0] == 'jmp', program.items()))\n",
    "jmp_idx = [i[0] for i in jump_inds]\n",
    "\n",
    "nop_inds = list(filter(lambda x:x[1][0] == 'nop', program.items()))\n",
    "nop_idx = [i[0] for i in nop_inds]"
   ]
  },
  {
   "cell_type": "code",
   "execution_count": 154,
   "metadata": {
    "collapsed": true,
    "jupyter": {
     "outputs_hidden": true
    }
   },
   "outputs": [
    {
     "name": "stdout",
     "output_type": "stream",
     "text": [
      "2\n",
      "14\n",
      "18\n",
      "31\n",
      "37\n",
      "42\n",
      "44\n",
      "51\n",
      "55\n",
      "57\n",
      "65\n",
      "71\n",
      "76\n",
      "79\n",
      "84\n",
      "95\n",
      "111\n",
      "149\n",
      "152\n",
      "153\n",
      "154\n",
      "156\n",
      "159\n",
      "165\n",
      "177\n",
      "184\n",
      "187\n",
      "196\n",
      "201\n",
      "204\n",
      "215\n",
      "220\n",
      "221\n",
      "227\n",
      "237\n",
      "242\n",
      "247\n",
      "250\n",
      "255\n",
      "271\n",
      "273\n",
      "276\n",
      "278\n",
      "284\n",
      "290\n",
      "295\n",
      "297\n",
      "303\n",
      "311\n",
      "337\n",
      "340\n",
      "346\n",
      "350\n",
      "362\n",
      "374\n",
      "393\n",
      "420\n",
      "422\n",
      "423\n",
      "426\n",
      "429\n",
      "438\n",
      "440\n",
      "445\n",
      "448\n",
      "452\n",
      "469\n",
      "470\n",
      "474\n",
      "475\n",
      "476\n",
      "484\n",
      "486\n",
      "499\n",
      "518\n",
      "524\n",
      "531\n",
      "534\n",
      "538\n",
      "541\n",
      "549\n",
      "576\n",
      "585\n",
      "616\n",
      "625\n",
      "637\n"
     ]
    },
    {
     "data": {
      "text/plain": [
       "[None,\n",
       " None,\n",
       " None,\n",
       " None,\n",
       " None,\n",
       " None,\n",
       " None,\n",
       " None,\n",
       " None,\n",
       " None,\n",
       " None,\n",
       " None,\n",
       " None,\n",
       " None,\n",
       " None,\n",
       " None,\n",
       " None,\n",
       " None,\n",
       " None,\n",
       " None,\n",
       " None,\n",
       " None,\n",
       " None,\n",
       " None,\n",
       " None,\n",
       " None,\n",
       " None,\n",
       " None,\n",
       " None,\n",
       " None,\n",
       " None,\n",
       " None,\n",
       " None,\n",
       " None,\n",
       " None,\n",
       " None,\n",
       " None,\n",
       " None,\n",
       " None,\n",
       " None,\n",
       " None,\n",
       " None,\n",
       " None,\n",
       " None,\n",
       " None,\n",
       " None,\n",
       " None,\n",
       " None,\n",
       " None,\n",
       " None,\n",
       " None,\n",
       " None,\n",
       " None,\n",
       " None,\n",
       " None,\n",
       " None,\n",
       " None,\n",
       " None,\n",
       " None,\n",
       " None,\n",
       " None,\n",
       " None,\n",
       " None,\n",
       " None,\n",
       " None,\n",
       " None,\n",
       " None,\n",
       " None,\n",
       " None,\n",
       " None,\n",
       " None,\n",
       " None,\n",
       " None,\n",
       " None,\n",
       " None,\n",
       " None,\n",
       " None,\n",
       " None,\n",
       " None,\n",
       " None,\n",
       " None,\n",
       " None,\n",
       " None,\n",
       " None,\n",
       " None,\n",
       " None]"
      ]
     },
     "execution_count": 154,
     "metadata": {},
     "output_type": "execute_result"
    }
   ],
   "source": [
    "[print(j) for j in nop_idx]"
   ]
  },
  {
   "cell_type": "code",
   "execution_count": 155,
   "metadata": {},
   "outputs": [
    {
     "name": "stdout",
     "output_type": "stream",
     "text": [
      "testing jmp index 2...\n",
      "testing jmp index 14...\n",
      "testing jmp index 18...\n",
      "testing jmp index 31...\n",
      "testing jmp index 37...\n",
      "testing jmp index 42...\n",
      "testing jmp index 44...\n",
      "testing jmp index 51...\n",
      "testing jmp index 55...\n",
      "testing jmp index 57...\n",
      "testing jmp index 65...\n",
      "here\n"
     ]
    }
   ],
   "source": [
    "for i in nop_idx:\n",
    "    \n",
    "    print(f'testing jmp index {i}...')\n",
    "    program = copy.deepcopy(_program)\n",
    "    program[jmp_idx[i]][0] = 'nop'\n",
    "    \n",
    "    visited = []\n",
    "    acc = 0\n",
    "    index = 0\n",
    "\n",
    "    while True:\n",
    "        \n",
    "        if index == 641: break\n",
    "\n",
    "        if program[index][0] == 'acc':\n",
    "\n",
    "            #print(program[index], index, acc)\n",
    "\n",
    "            acc += program[index][1]\n",
    "            index += 1\n",
    "            if index in visited: break\n",
    "            visited.append(index)\n",
    "\n",
    "            continue\n",
    "\n",
    "        elif program[index][0] == 'jmp':\n",
    "\n",
    "            #print(program[index], index, acc)\n",
    "\n",
    "            index += program[index][1]\n",
    "            if index in visited: break\n",
    "            visited.append(index)\n",
    "\n",
    "            continue\n",
    "\n",
    "        elif  program[index][0] == 'nop':\n",
    "\n",
    "            #print(program[index], index, acc)\n",
    "\n",
    "            index += 1\n",
    "            if index in visited: break\n",
    "            visited.append(index)\n",
    "\n",
    "            continue\n",
    "            \n",
    "    if index == 641: \n",
    "        print('here')\n",
    "        break"
   ]
  },
  {
   "cell_type": "code",
   "execution_count": 156,
   "metadata": {},
   "outputs": [
    {
     "data": {
      "text/plain": [
       "703"
      ]
     },
     "execution_count": 156,
     "metadata": {},
     "output_type": "execute_result"
    }
   ],
   "source": [
    "acc"
   ]
  },
  {
   "cell_type": "code",
   "execution_count": 151,
   "metadata": {},
   "outputs": [
    {
     "data": {
      "text/plain": [
       "225"
      ]
     },
     "execution_count": 151,
     "metadata": {},
     "output_type": "execute_result"
    }
   ],
   "source": [
    "len(jmp_idx)"
   ]
  },
  {
   "cell_type": "code",
   "execution_count": null,
   "metadata": {},
   "outputs": [],
   "source": []
  }
 ],
 "metadata": {
  "kernelspec": {
   "display_name": "Python 3",
   "language": "python",
   "name": "python3"
  },
  "language_info": {
   "codemirror_mode": {
    "name": "ipython",
    "version": 3
   },
   "file_extension": ".py",
   "mimetype": "text/x-python",
   "name": "python",
   "nbconvert_exporter": "python",
   "pygments_lexer": "ipython3",
   "version": "3.7.4"
  }
 },
 "nbformat": 4,
 "nbformat_minor": 4
}
