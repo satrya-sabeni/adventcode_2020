{
 "cells": [
  {
   "cell_type": "code",
   "execution_count": 318,
   "metadata": {},
   "outputs": [],
   "source": [
    "import numpy as np\n",
    "import itertools\n",
    "import math"
   ]
  },
  {
   "cell_type": "code",
   "execution_count": 41,
   "metadata": {
    "jupyter": {
     "source_hidden": true
    }
   },
   "outputs": [],
   "source": [
    "testi = [28,\n",
    "33,\n",
    "18,\n",
    "42,\n",
    "31,\n",
    "14,\n",
    "46,\n",
    "20,\n",
    "48,\n",
    "47,\n",
    "24,\n",
    "23,\n",
    "49,\n",
    "45,\n",
    "19,\n",
    "38,\n",
    "39,\n",
    "11,\n",
    "1,\n",
    "32,\n",
    "25,\n",
    "35,\n",
    "8,\n",
    "17,\n",
    "7,\n",
    "9,\n",
    "4,\n",
    "2,\n",
    "34,\n",
    "10,\n",
    "3]"
   ]
  },
  {
   "cell_type": "code",
   "execution_count": 42,
   "metadata": {},
   "outputs": [],
   "source": [
    "testi = sorted(testi)"
   ]
  },
  {
   "cell_type": "code",
   "execution_count": 86,
   "metadata": {},
   "outputs": [],
   "source": [
    "with open('input/input_day10.txt') as file:\n",
    "    testi = file.read().split()"
   ]
  },
  {
   "cell_type": "code",
   "execution_count": 88,
   "metadata": {},
   "outputs": [],
   "source": [
    "testi = [int(t) for t in testi]"
   ]
  },
  {
   "cell_type": "code",
   "execution_count": 90,
   "metadata": {},
   "outputs": [],
   "source": [
    "testi = sorted(testi)"
   ]
  },
  {
   "cell_type": "code",
   "execution_count": 92,
   "metadata": {
    "collapsed": true,
    "jupyter": {
     "outputs_hidden": true
    }
   },
   "outputs": [
    {
     "data": {
      "text/plain": [
       "[1,\n",
       " 2,\n",
       " 5,\n",
       " 6,\n",
       " 7,\n",
       " 8,\n",
       " 9,\n",
       " 12,\n",
       " 13,\n",
       " 14,\n",
       " 15,\n",
       " 16,\n",
       " 19,\n",
       " 22,\n",
       " 23,\n",
       " 24,\n",
       " 25,\n",
       " 26,\n",
       " 29,\n",
       " 30,\n",
       " 31,\n",
       " 32,\n",
       " 35,\n",
       " 36,\n",
       " 37,\n",
       " 38,\n",
       " 41,\n",
       " 44,\n",
       " 45,\n",
       " 46,\n",
       " 47,\n",
       " 50,\n",
       " 51,\n",
       " 52,\n",
       " 53,\n",
       " 54,\n",
       " 57,\n",
       " 58,\n",
       " 59,\n",
       " 62,\n",
       " 63,\n",
       " 66,\n",
       " 67,\n",
       " 68,\n",
       " 69,\n",
       " 70,\n",
       " 73,\n",
       " 76,\n",
       " 77,\n",
       " 78,\n",
       " 79,\n",
       " 80,\n",
       " 83,\n",
       " 86,\n",
       " 89,\n",
       " 90,\n",
       " 91,\n",
       " 94,\n",
       " 95,\n",
       " 96,\n",
       " 97,\n",
       " 98,\n",
       " 101,\n",
       " 104,\n",
       " 107,\n",
       " 108,\n",
       " 109,\n",
       " 110,\n",
       " 113,\n",
       " 114,\n",
       " 115,\n",
       " 116,\n",
       " 119,\n",
       " 120,\n",
       " 123,\n",
       " 124,\n",
       " 125,\n",
       " 126,\n",
       " 127,\n",
       " 130,\n",
       " 131,\n",
       " 134,\n",
       " 137,\n",
       " 138,\n",
       " 139,\n",
       " 140,\n",
       " 143,\n",
       " 144,\n",
       " 145,\n",
       " 148,\n",
       " 149,\n",
       " 150,\n",
       " 151]"
      ]
     },
     "execution_count": 92,
     "metadata": {},
     "output_type": "execute_result"
    }
   ],
   "source": [
    "testi"
   ]
  },
  {
   "cell_type": "code",
   "execution_count": 93,
   "metadata": {},
   "outputs": [],
   "source": [
    "testi = [0, *testi, testi[-1]+3]"
   ]
  },
  {
   "cell_type": "code",
   "execution_count": 94,
   "metadata": {},
   "outputs": [],
   "source": [
    "jolts = []\n",
    "\n",
    "for k, i in enumerate(range(len(testi))):\n",
    "    if i != (len(testi)-1):\n",
    "        jolt = testi[i+1] - testi[i]\n",
    "        #print(testi[i+1],testi[i])\n",
    "        jolts.append(jolt)"
   ]
  },
  {
   "cell_type": "code",
   "execution_count": 82,
   "metadata": {
    "collapsed": true,
    "jupyter": {
     "outputs_hidden": true
    }
   },
   "outputs": [
    {
     "data": {
      "text/plain": [
       "[1,\n",
       " 1,\n",
       " 1,\n",
       " 1,\n",
       " 3,\n",
       " 1,\n",
       " 1,\n",
       " 1,\n",
       " 1,\n",
       " 3,\n",
       " 3,\n",
       " 1,\n",
       " 1,\n",
       " 1,\n",
       " 3,\n",
       " 1,\n",
       " 1,\n",
       " 3,\n",
       " 3,\n",
       " 1,\n",
       " 1,\n",
       " 1,\n",
       " 1,\n",
       " 3,\n",
       " 1,\n",
       " 3,\n",
       " 3,\n",
       " 1,\n",
       " 1,\n",
       " 1,\n",
       " 1,\n",
       " 3]"
      ]
     },
     "execution_count": 82,
     "metadata": {},
     "output_type": "execute_result"
    }
   ],
   "source": [
    "jolts"
   ]
  },
  {
   "cell_type": "code",
   "execution_count": 95,
   "metadata": {},
   "outputs": [],
   "source": [
    "x = np.array(jolts)"
   ]
  },
  {
   "cell_type": "code",
   "execution_count": 96,
   "metadata": {},
   "outputs": [
    {
     "data": {
      "text/plain": [
       "(array([1, 3]), array([64, 30]))"
      ]
     },
     "execution_count": 96,
     "metadata": {},
     "output_type": "execute_result"
    }
   ],
   "source": [
    "np.unique(x, return_counts=True)"
   ]
  },
  {
   "cell_type": "code",
   "execution_count": 97,
   "metadata": {},
   "outputs": [
    {
     "data": {
      "text/plain": [
       "1920"
      ]
     },
     "execution_count": 97,
     "metadata": {},
     "output_type": "execute_result"
    }
   ],
   "source": [
    "64*30"
   ]
  },
  {
   "cell_type": "code",
   "execution_count": 98,
   "metadata": {},
   "outputs": [
    {
     "data": {
      "text/plain": [
       "[1, 4, 5, 6, 7, 10, 11, 12, 15, 16, 19]"
      ]
     },
     "execution_count": 98,
     "metadata": {},
     "output_type": "execute_result"
    }
   ],
   "source": [
    "sorted([1, 4, 5, 6, 7, 10, 11, 12, 15, 16, 19])"
   ]
  },
  {
   "cell_type": "code",
   "execution_count": null,
   "metadata": {},
   "outputs": [],
   "source": []
  },
  {
   "cell_type": "code",
   "execution_count": null,
   "metadata": {},
   "outputs": [],
   "source": []
  },
  {
   "cell_type": "markdown",
   "metadata": {},
   "source": [
    "## part 2"
   ]
  },
  {
   "cell_type": "code",
   "execution_count": 313,
   "metadata": {},
   "outputs": [],
   "source": [
    "test = sorted([1, 4, 5, 6, 7, 10, 11, 12, 15, 16, 19])\n",
    "test = sorted([28,33,\n",
    "18,\n",
    "42,\n",
    "31,\n",
    "14,\n",
    "46,\n",
    "20,\n",
    "48,\n",
    "47,\n",
    "24,\n",
    "23,\n",
    "49,\n",
    "45,\n",
    "19,\n",
    "38,\n",
    "39,\n",
    "11,\n",
    "1,\n",
    "32,\n",
    "25,\n",
    "35,\n",
    "8,\n",
    "17,\n",
    "7,\n",
    "9,\n",
    "4,\n",
    "2,\n",
    "34,\n",
    "10,\n",
    "3])"
   ]
  },
  {
   "cell_type": "code",
   "execution_count": 102,
   "metadata": {},
   "outputs": [
    {
     "data": {
      "text/plain": [
       "[1, 4, 5, 6, 7, 10, 11, 12, 15, 16, 19]"
      ]
     },
     "execution_count": 102,
     "metadata": {},
     "output_type": "execute_result"
    }
   ],
   "source": [
    "test"
   ]
  },
  {
   "cell_type": "code",
   "execution_count": 314,
   "metadata": {},
   "outputs": [],
   "source": [
    "extras = []\n",
    "\n",
    "for i in range(len(test)):\n",
    "    \n",
    "    if i < (len(test) - 3):\n",
    "        intervals = [test[i+j] for j in range(1,4) if test[i+j] < test[i]+4]\n",
    "        extras.append(intervals[:-1])  # add everything except closest interval\n",
    "        \n",
    "    elif i < (len(test) - 2):\n",
    "        intervals = [test[i+j] for j in range(1,3) if test[i+j] < test[i]+4]\n",
    "        \n",
    "        extras.append(intervals[:-1])"
   ]
  },
  {
   "cell_type": "code",
   "execution_count": 315,
   "metadata": {},
   "outputs": [
    {
     "data": {
      "text/plain": [
       "[[2, 3],\n",
       " [3],\n",
       " [],\n",
       " [],\n",
       " [8, 9],\n",
       " [9, 10],\n",
       " [10],\n",
       " [],\n",
       " [],\n",
       " [],\n",
       " [18, 19],\n",
       " [19],\n",
       " [],\n",
       " [],\n",
       " [24],\n",
       " [],\n",
       " [],\n",
       " [],\n",
       " [32, 33],\n",
       " [33, 34],\n",
       " [34],\n",
       " [],\n",
       " [],\n",
       " [],\n",
       " [],\n",
       " [],\n",
       " [46, 47],\n",
       " [47, 48],\n",
       " [48]]"
      ]
     },
     "execution_count": 315,
     "metadata": {},
     "output_type": "execute_result"
    }
   ],
   "source": [
    "extras"
   ]
  },
  {
   "cell_type": "code",
   "execution_count": 316,
   "metadata": {},
   "outputs": [],
   "source": [
    "seto = sorted(list(set(itertools.chain(*extras))))"
   ]
  },
  {
   "cell_type": "code",
   "execution_count": 317,
   "metadata": {},
   "outputs": [
    {
     "data": {
      "text/plain": [
       "[2, 3, 8, 9, 10, 18, 19, 24, 32, 33, 34, 46, 47, 48]"
      ]
     },
     "execution_count": 317,
     "metadata": {},
     "output_type": "execute_result"
    }
   ],
   "source": [
    "list(seto)"
   ]
  },
  {
   "cell_type": "code",
   "execution_count": 319,
   "metadata": {},
   "outputs": [
    {
     "data": {
      "text/plain": [
       "87178291200"
      ]
     },
     "execution_count": 319,
     "metadata": {},
     "output_type": "execute_result"
    }
   ],
   "source": [
    "math.factorial(14)"
   ]
  },
  {
   "cell_type": "code",
   "execution_count": 320,
   "metadata": {},
   "outputs": [
    {
     "name": "stdout",
     "output_type": "stream",
     "text": [
      "1\n",
      "4\n",
      "7\n",
      "11\n",
      "14\n",
      "17\n",
      "20\n",
      "23\n",
      "25\n",
      "28\n",
      "31\n",
      "35\n",
      "38\n",
      "39\n",
      "42\n",
      "45\n",
      "49\n"
     ]
    }
   ],
   "source": [
    "for t in test:\n",
    "    if t not in seto:\n",
    "        print(t)"
   ]
  },
  {
   "cell_type": "code",
   "execution_count": 321,
   "metadata": {},
   "outputs": [
    {
     "data": {
      "text/plain": [
       "[1,\n",
       " 2,\n",
       " 3,\n",
       " 4,\n",
       " 7,\n",
       " 8,\n",
       " 9,\n",
       " 10,\n",
       " 11,\n",
       " 14,\n",
       " 17,\n",
       " 18,\n",
       " 19,\n",
       " 20,\n",
       " 23,\n",
       " 24,\n",
       " 25,\n",
       " 28,\n",
       " 31,\n",
       " 32,\n",
       " 33,\n",
       " 34,\n",
       " 35,\n",
       " 38,\n",
       " 39,\n",
       " 42,\n",
       " 45,\n",
       " 46,\n",
       " 47,\n",
       " 48,\n",
       " 49]"
      ]
     },
     "execution_count": 321,
     "metadata": {},
     "output_type": "execute_result"
    }
   ],
   "source": [
    "test"
   ]
  },
  {
   "cell_type": "code",
   "execution_count": null,
   "metadata": {},
   "outputs": [],
   "source": []
  },
  {
   "cell_type": "code",
   "execution_count": null,
   "metadata": {},
   "outputs": [],
   "source": []
  },
  {
   "cell_type": "code",
   "execution_count": null,
   "metadata": {},
   "outputs": [],
   "source": []
  },
  {
   "cell_type": "code",
   "execution_count": null,
   "metadata": {},
   "outputs": [],
   "source": [
    "\"\"\"\n",
    "\n",
    "(1|234)\n",
    "    1-2\n",
    "    1-3\n",
    "    1-4\n",
    "    (12|34)\n",
    "        12-3\n",
    "        12-4\n",
    "        (123|4)\n",
    "            123-4\n",
    "            \n",
    "for i\n",
    "    i\n",
    "    for j\n",
    "        ij\n",
    "        for a\n",
    "            ija\n",
    "            for b\n",
    "                ijab\n",
    "\"\"\""
   ]
  },
  {
   "cell_type": "code",
   "execution_count": 312,
   "metadata": {},
   "outputs": [
    {
     "name": "stdout",
     "output_type": "stream",
     "text": [
      "1\n",
      "----(1, 2)\n",
      "--------(1, 2, 3)\n",
      "-----------(1, 2, 3, 4)\n",
      "--------(1, 2, 4)\n",
      "-----------(1, 2, 4, 4)\n",
      "----(1, 3)\n",
      "--------(1, 3, 3)\n",
      "-----------(1, 3, 3, 4)\n",
      "--------(1, 3, 4)\n",
      "-----------(1, 3, 4, 4)\n",
      "----(1, 4)\n",
      "--------(1, 4, 3)\n",
      "-----------(1, 4, 3, 4)\n",
      "--------(1, 4, 4)\n",
      "-----------(1, 4, 4, 4)\n",
      "2\n",
      "----(2, 2)\n",
      "--------(2, 2, 3)\n",
      "-----------(2, 2, 3, 4)\n",
      "--------(2, 2, 4)\n",
      "-----------(2, 2, 4, 4)\n",
      "----(2, 3)\n",
      "--------(2, 3, 3)\n",
      "-----------(2, 3, 3, 4)\n",
      "--------(2, 3, 4)\n",
      "-----------(2, 3, 4, 4)\n",
      "----(2, 4)\n",
      "--------(2, 4, 3)\n",
      "-----------(2, 4, 3, 4)\n",
      "--------(2, 4, 4)\n",
      "-----------(2, 4, 4, 4)\n",
      "3\n",
      "----(3, 2)\n",
      "--------(3, 2, 3)\n",
      "-----------(3, 2, 3, 4)\n",
      "--------(3, 2, 4)\n",
      "-----------(3, 2, 4, 4)\n",
      "----(3, 3)\n",
      "--------(3, 3, 3)\n",
      "-----------(3, 3, 3, 4)\n",
      "--------(3, 3, 4)\n",
      "-----------(3, 3, 4, 4)\n",
      "----(3, 4)\n",
      "--------(3, 4, 3)\n",
      "-----------(3, 4, 3, 4)\n",
      "--------(3, 4, 4)\n",
      "-----------(3, 4, 4, 4)\n",
      "4\n",
      "----(4, 2)\n",
      "--------(4, 2, 3)\n",
      "-----------(4, 2, 3, 4)\n",
      "--------(4, 2, 4)\n",
      "-----------(4, 2, 4, 4)\n",
      "----(4, 3)\n",
      "--------(4, 3, 3)\n",
      "-----------(4, 3, 3, 4)\n",
      "--------(4, 3, 4)\n",
      "-----------(4, 3, 4, 4)\n",
      "----(4, 4)\n",
      "--------(4, 4, 3)\n",
      "-----------(4, 4, 3, 4)\n",
      "--------(4, 4, 4)\n",
      "-----------(4, 4, 4, 4)\n"
     ]
    }
   ],
   "source": [
    "ijab = [1,2,3,4]\n",
    "\n",
    "for i in ijab:\n",
    "    print(i)\n",
    "    jab = ijab[1:]\n",
    "    for j in jab:\n",
    "        print(f'----{i,j}')\n",
    "        ab = ijab[2:]\n",
    "        for a in ab:\n",
    "            print(f'--------{i,j,a}')\n",
    "            b_ = ijab[3:]\n",
    "            for b in b_:\n",
    "                print(f'-----------{i,j,a,b}')"
   ]
  },
  {
   "cell_type": "code",
   "execution_count": null,
   "metadata": {},
   "outputs": [],
   "source": []
  },
  {
   "cell_type": "code",
   "execution_count": null,
   "metadata": {},
   "outputs": [],
   "source": []
  },
  {
   "cell_type": "code",
   "execution_count": null,
   "metadata": {},
   "outputs": [],
   "source": []
  },
  {
   "cell_type": "code",
   "execution_count": null,
   "metadata": {},
   "outputs": [],
   "source": []
  },
  {
   "cell_type": "code",
   "execution_count": 294,
   "metadata": {},
   "outputs": [
    {
     "data": {
      "text/plain": [
       "[1, 2, 3, 4]"
      ]
     },
     "execution_count": 294,
     "metadata": {},
     "output_type": "execute_result"
    }
   ],
   "source": [
    "tt = [i for i in range(1,5)]\n",
    "tt"
   ]
  },
  {
   "cell_type": "code",
   "execution_count": 297,
   "metadata": {},
   "outputs": [],
   "source": [
    "group = 3\n",
    "combis = []\n",
    "\n",
    "# add the single outcast first\n",
    "for t in tt :\n",
    "    combis.append((t,))\n",
    "\n",
    "# rest of em\n",
    "for i in range(0, len(tt)):\n",
    "    resto = tt[0:i] + tt[i+1:]\n",
    "    \n",
    "    for z in range(1,len(tt)+1): # 2-6\n",
    "        for r in resto: # 2-10\n",
    "            #print(tt[i], r)\n",
    "            combis.append((tt[i],) + tuple(resto[0:z]))\n",
    "    \n",
    "#     a = 1\n",
    "#     while a < len(tt)+1:\n",
    "#         for r in resto:\n",
    "#             print(tt[i], r) #2\n",
    "#                 r in 1,2,3\n",
    "            \n",
    "    \n",
    "#     for z in range(1,len(tt)+1): # 2-6\n",
    "#         for r in resto: # 2-10\n",
    "#             #print(tt[i], r)\n",
    "            \n",
    "    \n",
    "    \n",
    "        \n",
    "        \n",
    "    "
   ]
  },
  {
   "cell_type": "code",
   "execution_count": 296,
   "metadata": {},
   "outputs": [
    {
     "data": {
      "text/plain": [
       "[(1,),\n",
       " (2,),\n",
       " (3,),\n",
       " (4,),\n",
       " (1, 2),\n",
       " (1, 2),\n",
       " (1, 2),\n",
       " (1, 2, 3),\n",
       " (1, 2, 3),\n",
       " (1, 2, 3),\n",
       " (1, 2, 3, 4),\n",
       " (1, 2, 3, 4),\n",
       " (1, 2, 3, 4),\n",
       " (1, 2, 3, 4),\n",
       " (1, 2, 3, 4),\n",
       " (1, 2, 3, 4),\n",
       " (2, 1),\n",
       " (2, 1),\n",
       " (2, 1),\n",
       " (2, 1, 3),\n",
       " (2, 1, 3),\n",
       " (2, 1, 3),\n",
       " (2, 1, 3, 4),\n",
       " (2, 1, 3, 4),\n",
       " (2, 1, 3, 4),\n",
       " (2, 1, 3, 4),\n",
       " (2, 1, 3, 4),\n",
       " (2, 1, 3, 4),\n",
       " (3, 1),\n",
       " (3, 1),\n",
       " (3, 1),\n",
       " (3, 1, 2),\n",
       " (3, 1, 2),\n",
       " (3, 1, 2),\n",
       " (3, 1, 2, 4),\n",
       " (3, 1, 2, 4),\n",
       " (3, 1, 2, 4),\n",
       " (3, 1, 2, 4),\n",
       " (3, 1, 2, 4),\n",
       " (3, 1, 2, 4),\n",
       " (4, 1),\n",
       " (4, 1),\n",
       " (4, 1),\n",
       " (4, 1, 2),\n",
       " (4, 1, 2),\n",
       " (4, 1, 2),\n",
       " (4, 1, 2, 3),\n",
       " (4, 1, 2, 3),\n",
       " (4, 1, 2, 3),\n",
       " (4, 1, 2, 3),\n",
       " (4, 1, 2, 3),\n",
       " (4, 1, 2, 3)]"
      ]
     },
     "execution_count": 296,
     "metadata": {},
     "output_type": "execute_result"
    }
   ],
   "source": [
    "combis"
   ]
  },
  {
   "cell_type": "code",
   "execution_count": 276,
   "metadata": {},
   "outputs": [
    {
     "data": {
      "text/plain": [
       "(1, 1, 2, 3)"
      ]
     },
     "execution_count": 276,
     "metadata": {},
     "output_type": "execute_result"
    }
   ],
   "source": [
    "(1,) + tuple([1,2,3])"
   ]
  },
  {
   "cell_type": "code",
   "execution_count": null,
   "metadata": {},
   "outputs": [],
   "source": []
  },
  {
   "cell_type": "code",
   "execution_count": null,
   "metadata": {},
   "outputs": [],
   "source": []
  },
  {
   "cell_type": "code",
   "execution_count": null,
   "metadata": {},
   "outputs": [],
   "source": []
  },
  {
   "cell_type": "code",
   "execution_count": null,
   "metadata": {},
   "outputs": [],
   "source": []
  },
  {
   "cell_type": "code",
   "execution_count": null,
   "metadata": {},
   "outputs": [],
   "source": []
  },
  {
   "cell_type": "code",
   "execution_count": null,
   "metadata": {},
   "outputs": [],
   "source": []
  },
  {
   "cell_type": "code",
   "execution_count": null,
   "metadata": {},
   "outputs": [],
   "source": []
  },
  {
   "cell_type": "code",
   "execution_count": 324,
   "metadata": {},
   "outputs": [
    {
     "data": {
      "text/plain": [
       "(31, [2, 3, 8, 9, 10, 18, 19, 24, 32, 33, 34, 46, 47, 48])"
      ]
     },
     "execution_count": 324,
     "metadata": {},
     "output_type": "execute_result"
    }
   ],
   "source": [
    "len(test), seto"
   ]
  },
  {
   "cell_type": "code",
   "execution_count": 360,
   "metadata": {},
   "outputs": [],
   "source": [
    "with open('day10.txt', 'w') as file:\n",
    "\n",
    "    for i in range(len(seto[:1])):\n",
    "        file.write(f'{(seto[i],)}\\n')\n",
    "\n",
    "        for j in range(len(seto)):\n",
    "            prefix = (seto[i], seto[j])\n",
    "            file.write(f'{prefix}\\n')\n",
    "\n",
    "            for a in range(len(seto)):\n",
    "                three = (*prefix, (seto[a]))\n",
    "                file.write(f'{three}\\n')\n",
    "\n",
    "                for b in range(len(seto)):\n",
    "                    four = (*three, (seto[b]))\n",
    "                    file.write(f'{four}\\n')\n",
    "\n",
    "                    for c in range(len(seto)):\n",
    "                        five = (*four, (seto[c]))\n",
    "                        file.write(f'{five}\\n')\n",
    "\n",
    "                        for d in range(len(seto)):\n",
    "                            six = (*five, (seto[d]))\n",
    "                            file.write(f'{six}\\n')\n",
    "\n",
    "                            for e in range(len(seto)):\n",
    "                                seven = (*six, (seto[e]))\n",
    "                                file.write(f'{seven}\\n')"
   ]
  },
  {
   "cell_type": "code",
   "execution_count": null,
   "metadata": {},
   "outputs": [],
   "source": [
    "ij\n",
    "ija\n",
    "ijab\n",
    "ijabc\n",
    "ijabcd"
   ]
  },
  {
   "cell_type": "code",
   "execution_count": null,
   "metadata": {},
   "outputs": [],
   "source": []
  },
  {
   "cell_type": "code",
   "execution_count": 363,
   "metadata": {},
   "outputs": [],
   "source": [
    "with open('./day10.txt') as file:\n",
    "    res = file.read().splitlines()"
   ]
  },
  {
   "cell_type": "code",
   "execution_count": 365,
   "metadata": {},
   "outputs": [
    {
     "data": {
      "text/plain": [
       "8108731"
      ]
     },
     "execution_count": 365,
     "metadata": {},
     "output_type": "execute_result"
    }
   ],
   "source": [
    "len(res)"
   ]
  },
  {
   "cell_type": "code",
   "execution_count": null,
   "metadata": {},
   "outputs": [],
   "source": []
  },
  {
   "cell_type": "code",
   "execution_count": null,
   "metadata": {},
   "outputs": [],
   "source": []
  },
  {
   "cell_type": "code",
   "execution_count": null,
   "metadata": {},
   "outputs": [],
   "source": []
  },
  {
   "cell_type": "code",
   "execution_count": 382,
   "metadata": {},
   "outputs": [
    {
     "data": {
      "text/plain": [
       "1"
      ]
     },
     "execution_count": 382,
     "metadata": {},
     "output_type": "execute_result"
    }
   ],
   "source": [
    "##weakpie\n",
    "len(list(itertools.combinations(seto,14)))"
   ]
  },
  {
   "cell_type": "code",
   "execution_count": 417,
   "metadata": {},
   "outputs": [
    {
     "name": "stdout",
     "output_type": "stream",
     "text": [
      "combos on level 1: 14\n",
      "combos on level 2: 91\n",
      "combos on level 3: 364\n",
      "combos on level 4: 1001\n",
      "combos on level 5: 2002\n",
      "combos on level 6: 3003\n",
      "combos on level 7: 3432\n",
      "combos on level 8: 3003\n",
      "combos on level 9: 2002\n",
      "combos on level 10: 1001\n",
      "combos on level 11: 364\n",
      "combos on level 12: 91\n",
      "combos on level 13: 14\n",
      "combos on level 14: 1\n"
     ]
    }
   ],
   "source": [
    "accum = 0\n",
    "combolist = []\n",
    "\n",
    "for i in range(1, len(seto)+1):\n",
    "    combos = len(list(itertools.combinations(seto,i)))\n",
    "    combolist += list(itertools.combinations(seto,i))\n",
    "    print(f'combos on level {i}: {combos}')\n",
    "    accum += combos"
   ]
  },
  {
   "cell_type": "code",
   "execution_count": 387,
   "metadata": {},
   "outputs": [
    {
     "data": {
      "text/plain": [
       "16383"
      ]
     },
     "execution_count": 387,
     "metadata": {},
     "output_type": "execute_result"
    }
   ],
   "source": [
    "accum"
   ]
  },
  {
   "cell_type": "code",
   "execution_count": 418,
   "metadata": {},
   "outputs": [
    {
     "data": {
      "text/plain": [
       "16383"
      ]
     },
     "execution_count": 418,
     "metadata": {},
     "output_type": "execute_result"
    }
   ],
   "source": [
    "cl_sorted = "
   ]
  },
  {
   "cell_type": "code",
   "execution_count": 424,
   "metadata": {},
   "outputs": [],
   "source": [
    "with open('day10.txt', 'w') as file:\n",
    "    for c in combolist:\n",
    "        file.write(f'{c}\\n')"
   ]
  },
  {
   "cell_type": "code",
   "execution_count": 432,
   "metadata": {},
   "outputs": [
    {
     "data": {
      "text/plain": [
       "True"
      ]
     },
     "execution_count": 432,
     "metadata": {},
     "output_type": "execute_result"
    }
   ],
   "source": [
    "(8,9,10) in combolist"
   ]
  },
  {
   "cell_type": "code",
   "execution_count": 425,
   "metadata": {},
   "outputs": [
    {
     "data": {
      "text/plain": [
       "[2, 3, 8, 9, 10, 18, 19, 24, 32, 33, 34, 46, 47, 48]"
      ]
     },
     "execution_count": 425,
     "metadata": {},
     "output_type": "execute_result"
    }
   ],
   "source": [
    "seto"
   ]
  },
  {
   "cell_type": "code",
   "execution_count": null,
   "metadata": {},
   "outputs": [],
   "source": []
  }
 ],
 "metadata": {
  "kernelspec": {
   "display_name": "Python 3",
   "language": "python",
   "name": "python3"
  },
  "language_info": {
   "codemirror_mode": {
    "name": "ipython",
    "version": 3
   },
   "file_extension": ".py",
   "mimetype": "text/x-python",
   "name": "python",
   "nbconvert_exporter": "python",
   "pygments_lexer": "ipython3",
   "version": "3.7.4"
  }
 },
 "nbformat": 4,
 "nbformat_minor": 4
}
