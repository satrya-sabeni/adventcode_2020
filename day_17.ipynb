{
 "cells": [
  {
   "cell_type": "code",
   "execution_count": null,
   "metadata": {},
   "outputs": [],
   "source": []
  },
  {
   "cell_type": "code",
   "execution_count": 1,
   "metadata": {},
   "outputs": [],
   "source": [
    "import numpy as np"
   ]
  },
  {
   "cell_type": "code",
   "execution_count": 335,
   "metadata": {},
   "outputs": [],
   "source": [
    "pocket = np.zeros(shape=(20,20,20), dtype='uint8')"
   ]
  },
  {
   "cell_type": "code",
   "execution_count": 336,
   "metadata": {},
   "outputs": [],
   "source": [
    "# pocket[4,3,4] = 1\n",
    "# pocket[4,4,5] = 1\n",
    "# pocket[4,5,3:6] = 1 \n",
    "\n",
    "pocket[10,8,10] = 1\n",
    "pocket[10,9,11] = 1\n",
    "pocket[10,10,9:12] = 1 "
   ]
  },
  {
   "cell_type": "code",
   "execution_count": 337,
   "metadata": {},
   "outputs": [
    {
     "data": {
      "text/plain": [
       "array([[0, 0, 0, 0, 0, 0, 0, 0, 0, 0, 0, 0, 0, 0, 0, 0, 0, 0, 0, 0],\n",
       "       [0, 0, 0, 0, 0, 0, 0, 0, 0, 0, 0, 0, 0, 0, 0, 0, 0, 0, 0, 0],\n",
       "       [0, 0, 0, 0, 0, 0, 0, 0, 0, 0, 0, 0, 0, 0, 0, 0, 0, 0, 0, 0],\n",
       "       [0, 0, 0, 0, 0, 0, 0, 0, 0, 0, 0, 0, 0, 0, 0, 0, 0, 0, 0, 0],\n",
       "       [0, 0, 0, 0, 0, 0, 0, 0, 0, 0, 0, 0, 0, 0, 0, 0, 0, 0, 0, 0],\n",
       "       [0, 0, 0, 0, 0, 0, 0, 0, 0, 0, 0, 0, 0, 0, 0, 0, 0, 0, 0, 0],\n",
       "       [0, 0, 0, 0, 0, 0, 0, 0, 0, 0, 0, 0, 0, 0, 0, 0, 0, 0, 0, 0],\n",
       "       [0, 0, 0, 0, 0, 0, 0, 0, 0, 0, 0, 0, 0, 0, 0, 0, 0, 0, 0, 0],\n",
       "       [0, 0, 0, 0, 0, 0, 0, 0, 0, 0, 1, 0, 0, 0, 0, 0, 0, 0, 0, 0],\n",
       "       [0, 0, 0, 0, 0, 0, 0, 0, 0, 0, 0, 1, 0, 0, 0, 0, 0, 0, 0, 0],\n",
       "       [0, 0, 0, 0, 0, 0, 0, 0, 0, 1, 1, 1, 0, 0, 0, 0, 0, 0, 0, 0],\n",
       "       [0, 0, 0, 0, 0, 0, 0, 0, 0, 0, 0, 0, 0, 0, 0, 0, 0, 0, 0, 0],\n",
       "       [0, 0, 0, 0, 0, 0, 0, 0, 0, 0, 0, 0, 0, 0, 0, 0, 0, 0, 0, 0],\n",
       "       [0, 0, 0, 0, 0, 0, 0, 0, 0, 0, 0, 0, 0, 0, 0, 0, 0, 0, 0, 0],\n",
       "       [0, 0, 0, 0, 0, 0, 0, 0, 0, 0, 0, 0, 0, 0, 0, 0, 0, 0, 0, 0],\n",
       "       [0, 0, 0, 0, 0, 0, 0, 0, 0, 0, 0, 0, 0, 0, 0, 0, 0, 0, 0, 0],\n",
       "       [0, 0, 0, 0, 0, 0, 0, 0, 0, 0, 0, 0, 0, 0, 0, 0, 0, 0, 0, 0],\n",
       "       [0, 0, 0, 0, 0, 0, 0, 0, 0, 0, 0, 0, 0, 0, 0, 0, 0, 0, 0, 0],\n",
       "       [0, 0, 0, 0, 0, 0, 0, 0, 0, 0, 0, 0, 0, 0, 0, 0, 0, 0, 0, 0],\n",
       "       [0, 0, 0, 0, 0, 0, 0, 0, 0, 0, 0, 0, 0, 0, 0, 0, 0, 0, 0, 0]],\n",
       "      dtype=uint8)"
      ]
     },
     "execution_count": 337,
     "metadata": {},
     "output_type": "execute_result"
    }
   ],
   "source": [
    "pocket[10]"
   ]
  },
  {
   "cell_type": "code",
   "execution_count": 338,
   "metadata": {},
   "outputs": [],
   "source": [
    "pocketdim = pocket.copy()"
   ]
  },
  {
   "cell_type": "code",
   "execution_count": 339,
   "metadata": {},
   "outputs": [
    {
     "name": "stdout",
     "output_type": "stream",
     "text": [
      "11\n",
      "21\n",
      "38\n",
      "58\n",
      "101\n",
      "112\n"
     ]
    }
   ],
   "source": [
    "for i in range(0,6):  \n",
    "    # get all coords of actives \n",
    "    actives = np.argwhere(pocketdim == 1)\n",
    "    actives = actives.tolist()\n",
    "    actives\n",
    "    \n",
    "    inactive_neighbors = [] # all\n",
    "    to_stay = []\n",
    "    to_deactivate = []\n",
    "\n",
    "    # ----- check which to stay active, and gather all inactive neighbors\n",
    "    for cube in actives:\n",
    "        local_neighbors = []\n",
    "\n",
    "        z = cube[0]  \n",
    "        y = cube[1] \n",
    "        x = cube[2] \n",
    "\n",
    "        # collect at neighbor coords\n",
    "        for zneig in range(z-1, z+2):\n",
    "            for yneig in range(y-1, y+2):\n",
    "                for xneig in range(x-1, x+2):\n",
    "                    if (zneig, yneig, xneig) != (z,y,x):\n",
    "                        local_neighbors.append((zneig, yneig, xneig))\n",
    "                        if pocketdim[(zneig, yneig, xneig)] == 0:\n",
    "                            inactive_neighbors.append((zneig, yneig, xneig))\n",
    "\n",
    "        # count total active neighbros\n",
    "        n_neighbors = 0\n",
    "        for cub in local_neighbors:\n",
    "            if pocketdim[cub] == 1:\n",
    "                n_neighbors += 1\n",
    "\n",
    "        # determine to stay or dactivea\n",
    "        if n_neighbors == 2 or n_neighbors == 3:\n",
    "            to_stay.append((z,y,x))\n",
    "        elif n_neighbors < 2 or n_neighbors > 3:\n",
    "            to_deactivate.append((z,y,x))\n",
    "\n",
    "        # print(f'staying -> cube: {(z, y, x)}, neighbors: {n_neighbors}')\n",
    "\n",
    "    # ------ check whoch inactive must go active ------------\n",
    "\n",
    "    # check every deactive neighbor\n",
    "    neighbors_ = list(set(inactive_neighbors))  # get out duplicates\n",
    "    to_active = []\n",
    "\n",
    "    for incub in neighbors_:\n",
    "        neighbors_d = []  # holder for deactiave neighbors\n",
    "\n",
    "        z = incub[0]  \n",
    "        y = incub[1] \n",
    "        x = incub[2] \n",
    "\n",
    "\n",
    "        # collect at neighbor coords of deactives\n",
    "        for zneig in range(z-1, z+2):\n",
    "            for yneig in range(y-1, y+2):\n",
    "                for xneig in range(x-1, x+2):\n",
    "                    if (zneig, yneig, xneig) != (z,y,x):\n",
    "                        neighbors_d.append((zneig, yneig, xneig))\n",
    "\n",
    "        # count total active neighbros\n",
    "        n_neighbors_d = 0\n",
    "        for cub in neighbors_d:\n",
    "            if pocketdim[cub] == 1:\n",
    "                n_neighbors_d += 1\n",
    "\n",
    "        # determine to stay or dactivea\n",
    "        if n_neighbors_d == 3:\n",
    "            to_active.append((z,y,x))\n",
    "            \n",
    "    # ------ change all actives/inactives accordingly ------------\n",
    "    for cubd in to_deactivate:\n",
    "        pocketdim[cubd] = 0\n",
    "    \n",
    "    for cuba in to_active:\n",
    "        pocketdim[cuba] = 1\n",
    "    \n",
    "    print(len(to_stay) + len(to_active))"
   ]
  },
  {
   "cell_type": "code",
   "execution_count": null,
   "metadata": {},
   "outputs": [],
   "source": []
  },
  {
   "cell_type": "code",
   "execution_count": null,
   "metadata": {},
   "outputs": [],
   "source": []
  },
  {
   "cell_type": "code",
   "execution_count": null,
   "metadata": {},
   "outputs": [],
   "source": []
  },
  {
   "cell_type": "code",
   "execution_count": null,
   "metadata": {},
   "outputs": [],
   "source": []
  },
  {
   "cell_type": "code",
   "execution_count": null,
   "metadata": {},
   "outputs": [],
   "source": []
  }
 ],
 "metadata": {
  "kernelspec": {
   "display_name": "venv",
   "language": "python",
   "name": "venv"
  },
  "language_info": {
   "codemirror_mode": {
    "name": "ipython",
    "version": 3
   },
   "file_extension": ".py",
   "mimetype": "text/x-python",
   "name": "python",
   "nbconvert_exporter": "python",
   "pygments_lexer": "ipython3",
   "version": "3.7.4"
  }
 },
 "nbformat": 4,
 "nbformat_minor": 4
}
