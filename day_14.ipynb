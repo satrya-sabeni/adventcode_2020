{
 "cells": [
  {
   "cell_type": "code",
   "execution_count": 25,
   "metadata": {},
   "outputs": [],
   "source": [
    "with open('input/input_day14.txt') as file:\n",
    "    pg = file.read().splitlines()"
   ]
  },
  {
   "cell_type": "code",
   "execution_count": 26,
   "metadata": {},
   "outputs": [],
   "source": [
    "deviders = [k for k, l in enumerate(pg) if 'mask' in l ]"
   ]
  },
  {
   "cell_type": "code",
   "execution_count": 27,
   "metadata": {},
   "outputs": [],
   "source": [
    "programs = [pg[d:deviders[k+1]] if d != deviders[-1] else pg[d:len(pg)] for k,d in enumerate(deviders)]"
   ]
  },
  {
   "cell_type": "code",
   "execution_count": 28,
   "metadata": {},
   "outputs": [
    {
     "data": {
      "text/plain": [
       "[['mask = 011011X11X11100101XX0XX0100100000X0X',\n",
       "  'mem[48514] = 171994',\n",
       "  'mem[14856] = 472531',\n",
       "  'mem[57899] = 15860',\n",
       "  'mem[41284] = 37917047',\n",
       "  'mem[8885] = 893069967',\n",
       "  'mem[28070] = 861473']]"
      ]
     },
     "execution_count": 28,
     "metadata": {},
     "output_type": "execute_result"
    }
   ],
   "source": [
    "programs[:1]"
   ]
  },
  {
   "cell_type": "code",
   "execution_count": 56,
   "metadata": {},
   "outputs": [],
   "source": [
    "def get_bin(n):\n",
    "    binstr = ''\n",
    "\n",
    "    while n > 1:\n",
    "        b = n % 2\n",
    "        binstr += str(int(b))\n",
    "        n = n / 2\n",
    "    \n",
    "    return binstr[::-1]\n",
    "\n",
    "    "
   ]
  },
  {
   "cell_type": "code",
   "execution_count": 42,
   "metadata": {},
   "outputs": [],
   "source": [
    "def get_val(bina):\n",
    "    binrev = bina[::-1]\n",
    "    \n",
    "    vals = [int(2**i) for i in range(len(binrev))]\n",
    "    numbers = [int(b) * v for b, v in zip(binrev, vals)]\n",
    "    \n",
    "    return sum(numbers)"
   ]
  },
  {
   "cell_type": "code",
   "execution_count": 32,
   "metadata": {},
   "outputs": [
    {
     "data": {
      "text/plain": [
       "'101001111111011010'"
      ]
     },
     "execution_count": 32,
     "metadata": {},
     "output_type": "execute_result"
    }
   ],
   "source": [
    "get_binary(171994)"
   ]
  },
  {
   "cell_type": "code",
   "execution_count": 33,
   "metadata": {},
   "outputs": [
    {
     "data": {
      "text/plain": [
       "171994"
      ]
     },
     "execution_count": 33,
     "metadata": {},
     "output_type": "execute_result"
    }
   ],
   "source": [
    "get_value(get_binary(171994))"
   ]
  },
  {
   "cell_type": "code",
   "execution_count": null,
   "metadata": {},
   "outputs": [],
   "source": []
  },
  {
   "cell_type": "code",
   "execution_count": null,
   "metadata": {},
   "outputs": [],
   "source": []
  },
  {
   "cell_type": "code",
   "execution_count": null,
   "metadata": {},
   "outputs": [],
   "source": []
  },
  {
   "cell_type": "code",
   "execution_count": null,
   "metadata": {},
   "outputs": [],
   "source": []
  },
  {
   "cell_type": "code",
   "execution_count": 96,
   "metadata": {},
   "outputs": [
    {
     "data": {
      "text/plain": [
       "['mask = 011011X11X11100101XX0XX0100100000X0X',\n",
       " 'mem[48514] = 171994',\n",
       " 'mem[14856] = 472531',\n",
       " 'mem[57899] = 15860',\n",
       " 'mem[41284] = 37917047',\n",
       " 'mem[8885] = 893069967',\n",
       " 'mem[28070] = 861473']"
      ]
     },
     "execution_count": 96,
     "metadata": {},
     "output_type": "execute_result"
    }
   ],
   "source": [
    "programs[0]"
   ]
  },
  {
   "cell_type": "code",
   "execution_count": null,
   "metadata": {},
   "outputs": [],
   "source": [
    "# get mask\n",
    "# for binary in values\n",
    "    # get binary values\n",
    "    # mask binary values\n",
    "    # get masked binary values\n",
    "# sum masked binaries"
   ]
  },
  {
   "cell_type": "code",
   "execution_count": 45,
   "metadata": {},
   "outputs": [],
   "source": [
    "mask = 'XXXXXXXXXXXXXXXXXXXXXXXXXXXXX1XXXX0X'\n",
    "binval = '000000000000000000000000000000001011'\n",
    "\n",
    "masked = [b if m == 'X' else m for m, b in zip(mask, binval)]\n",
    "maskbin = ''.join(masked)\n",
    "\n",
    "newval = get_val(maskbin)"
   ]
  },
  {
   "cell_type": "code",
   "execution_count": 122,
   "metadata": {},
   "outputs": [],
   "source": [
    "memory = {}\n",
    "\n",
    "for prog in programs[:]:\n",
    "    mask = prog[0].split('= ')[-1]\n",
    "    \n",
    "    values = prog[1:]\n",
    "    for val in values:\n",
    "        memloc = int(val.split('[')[-1].split(']')[0])\n",
    "        rawnum = val.split('= ')[-1]\n",
    "        binval = get_bin(int(rawnum)).zfill(36)\n",
    "        \n",
    "        masked = [b if m == 'X' else m for m, b in zip(mask, binval)]\n",
    "        maskbin = ''.join(masked)\n",
    "        \n",
    "        newval = get_val(maskbin)\n",
    "        memory[memloc] = newval\n",
    "        \n",
    "    "
   ]
  },
  {
   "cell_type": "code",
   "execution_count": 124,
   "metadata": {},
   "outputs": [
    {
     "data": {
      "text/plain": [
       "11501064782628"
      ]
     },
     "execution_count": 124,
     "metadata": {},
     "output_type": "execute_result"
    }
   ],
   "source": [
    "sum(memory.values())"
   ]
  },
  {
   "cell_type": "code",
   "execution_count": null,
   "metadata": {},
   "outputs": [],
   "source": []
  },
  {
   "cell_type": "code",
   "execution_count": null,
   "metadata": {},
   "outputs": [],
   "source": []
  },
  {
   "cell_type": "code",
   "execution_count": null,
   "metadata": {},
   "outputs": [],
   "source": []
  },
  {
   "cell_type": "code",
   "execution_count": 80,
   "metadata": {},
   "outputs": [],
   "source": [
    "testprog = [[\n",
    "    'mask = XXXXXXXXXXXXXXXXXXXXXXXXXXXXX1XXXX0X',\n",
    "    'mem[8] = 11',\n",
    "    'mem[7] = 101',\n",
    "    'mem[8] = 0'],\n",
    "]"
   ]
  },
  {
   "cell_type": "code",
   "execution_count": null,
   "metadata": {},
   "outputs": [],
   "source": []
  }
 ],
 "metadata": {
  "kernelspec": {
   "display_name": "Python 3",
   "language": "python",
   "name": "python3"
  },
  "language_info": {
   "codemirror_mode": {
    "name": "ipython",
    "version": 3
   },
   "file_extension": ".py",
   "mimetype": "text/x-python",
   "name": "python",
   "nbconvert_exporter": "python",
   "pygments_lexer": "ipython3",
   "version": "3.7.4"
  }
 },
 "nbformat": 4,
 "nbformat_minor": 4
}
