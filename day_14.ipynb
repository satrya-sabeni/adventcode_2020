{
 "cells": [
  {
   "cell_type": "code",
   "execution_count": 25,
   "metadata": {},
   "outputs": [],
   "source": [
    "with open('input/input_day14.txt') as file:\n",
    "    pg = file.read().splitlines()"
   ]
  },
  {
   "cell_type": "code",
   "execution_count": 26,
   "metadata": {},
   "outputs": [],
   "source": [
    "deviders = [k for k, l in enumerate(pg) if 'mask' in l ]"
   ]
  },
  {
   "cell_type": "code",
   "execution_count": 27,
   "metadata": {},
   "outputs": [],
   "source": [
    "programs = [pg[d:deviders[k+1]] if d != deviders[-1] else pg[d:len(pg)] for k,d in enumerate(deviders)]"
   ]
  },
  {
   "cell_type": "code",
   "execution_count": 28,
   "metadata": {},
   "outputs": [
    {
     "data": {
      "text/plain": [
       "[['mask = 011011X11X11100101XX0XX0100100000X0X',\n",
       "  'mem[48514] = 171994',\n",
       "  'mem[14856] = 472531',\n",
       "  'mem[57899] = 15860',\n",
       "  'mem[41284] = 37917047',\n",
       "  'mem[8885] = 893069967',\n",
       "  'mem[28070] = 861473']]"
      ]
     },
     "execution_count": 28,
     "metadata": {},
     "output_type": "execute_result"
    }
   ],
   "source": [
    "programs[:1]"
   ]
  },
  {
   "cell_type": "code",
   "execution_count": 56,
   "metadata": {},
   "outputs": [],
   "source": [
    "def get_bin(n):\n",
    "    binstr = ''\n",
    "\n",
    "    while n > 1:\n",
    "        b = n % 2\n",
    "        binstr += str(int(b))\n",
    "        n = n / 2\n",
    "    \n",
    "    return binstr[::-1]\n",
    "\n",
    "    "
   ]
  },
  {
   "cell_type": "code",
   "execution_count": 42,
   "metadata": {},
   "outputs": [],
   "source": [
    "def get_val(bina):\n",
    "    binrev = bina[::-1]\n",
    "    \n",
    "    vals = [int(2**i) for i in range(len(binrev))]\n",
    "    numbers = [int(b) * v for b, v in zip(binrev, vals)]\n",
    "    \n",
    "    return sum(numbers)"
   ]
  },
  {
   "cell_type": "code",
   "execution_count": 32,
   "metadata": {},
   "outputs": [
    {
     "data": {
      "text/plain": [
       "'101001111111011010'"
      ]
     },
     "execution_count": 32,
     "metadata": {},
     "output_type": "execute_result"
    }
   ],
   "source": [
    "get_binary(171994)"
   ]
  },
  {
   "cell_type": "code",
   "execution_count": 33,
   "metadata": {},
   "outputs": [
    {
     "data": {
      "text/plain": [
       "171994"
      ]
     },
     "execution_count": 33,
     "metadata": {},
     "output_type": "execute_result"
    }
   ],
   "source": [
    "get_value(get_binary(171994))"
   ]
  },
  {
   "cell_type": "code",
   "execution_count": 133,
   "metadata": {},
   "outputs": [],
   "source": [
    "from math import factorial as fact"
   ]
  },
  {
   "cell_type": "code",
   "execution_count": 141,
   "metadata": {},
   "outputs": [
    {
     "data": {
      "text/plain": [
       "1.0"
      ]
     },
     "execution_count": 141,
     "metadata": {},
     "output_type": "execute_result"
    }
   ],
   "source": [
    "n = 3\n",
    "r = 3\n",
    "\n",
    "fact(n) / (fact(r) * fact(n-r))"
   ]
  },
  {
   "cell_type": "code",
   "execution_count": 138,
   "metadata": {},
   "outputs": [
    {
     "data": {
      "text/plain": [
       "120"
      ]
     },
     "execution_count": 138,
     "metadata": {},
     "output_type": "execute_result"
    }
   ],
   "source": [
    "fact(5)"
   ]
  },
  {
   "cell_type": "code",
   "execution_count": null,
   "metadata": {},
   "outputs": [],
   "source": []
  },
  {
   "cell_type": "code",
   "execution_count": 96,
   "metadata": {},
   "outputs": [
    {
     "data": {
      "text/plain": [
       "['mask = 011011X11X11100101XX0XX0100100000X0X',\n",
       " 'mem[48514] = 171994',\n",
       " 'mem[14856] = 472531',\n",
       " 'mem[57899] = 15860',\n",
       " 'mem[41284] = 37917047',\n",
       " 'mem[8885] = 893069967',\n",
       " 'mem[28070] = 861473']"
      ]
     },
     "execution_count": 96,
     "metadata": {},
     "output_type": "execute_result"
    }
   ],
   "source": [
    "programs[0]"
   ]
  },
  {
   "cell_type": "code",
   "execution_count": null,
   "metadata": {},
   "outputs": [],
   "source": [
    "# part 1\n",
    "# get mask\n",
    "# for binary in values\n",
    "    # get binary values\n",
    "    # mask binary values\n",
    "    # get masked binary values\n",
    "# sum masked binaries"
   ]
  },
  {
   "cell_type": "code",
   "execution_count": 122,
   "metadata": {},
   "outputs": [],
   "source": [
    "memory = {}\n",
    "\n",
    "for prog in programs[:]:\n",
    "    mask = prog[0].split('= ')[-1]\n",
    "    \n",
    "    values = prog[1:]\n",
    "    for val in values:\n",
    "        memloc = int(val.split('[')[-1].split(']')[0])\n",
    "        rawnum = val.split('= ')[-1]\n",
    "        binval = get_bin(int(rawnum)).zfill(36)\n",
    "        \n",
    "        masked = [b if m == 'X' else m for m, b in zip(mask, binval)]\n",
    "        maskbin = ''.join(masked)\n",
    "        \n",
    "        newval = get_val(maskbin)\n",
    "        memory[memloc] = newval\n",
    "        \n",
    "    "
   ]
  },
  {
   "cell_type": "code",
   "execution_count": 124,
   "metadata": {},
   "outputs": [
    {
     "data": {
      "text/plain": [
       "11501064782628"
      ]
     },
     "execution_count": 124,
     "metadata": {},
     "output_type": "execute_result"
    }
   ],
   "source": [
    "sum(memory.values())"
   ]
  },
  {
   "cell_type": "code",
   "execution_count": null,
   "metadata": {},
   "outputs": [],
   "source": [
    "# part 2\n",
    "# get mask\n",
    "# for binary in values\n",
    "    # get binary value for adress\n",
    "    # mask binary address(replace also X)\n",
    "    # count all X\n",
    "    # generate all binary option number X\n",
    "    # generate full addresses of all binary options(len(options))\n",
    "    # write all adressen to memory, with asssigned value\n",
    "# sum masked binaries"
   ]
  },
  {
   "cell_type": "code",
   "execution_count": 279,
   "metadata": {},
   "outputs": [],
   "source": [
    "memory = {}\n",
    "\n",
    "for prog in programs:\n",
    "    mask = prog[0].split('= ')[-1]\n",
    "    \n",
    "    values = prog[1:]\n",
    "    for val in values:\n",
    "        memdec = int(val.split('[')[-1].split(']')[0])\n",
    "        value = val.split('= ')[-1]\n",
    "        binmem = get_bin(int(memdec)).zfill(36)\n",
    "        \n",
    "        masked = [b if m == '0' else m for m, b in zip(mask, binmem)]\n",
    "        maskadr = ''.join(masked)\n",
    "        \n",
    "        floats = maskadr.count('X')\n",
    "        if floats == 0:\n",
    "            print('needs be checked')\n",
    "        bin_options = generate_bins([''], depth=floats)  # generate all possible binary optinos\n",
    "        xids = get_xids(maskadr)  # get all indice positoins in placeholder adres\n",
    "        \n",
    "        adresses = []\n",
    "        for opt in bin_options:\n",
    "            edit = list(maskadr)\n",
    "            for xid,opt in zip(xids, opt):\n",
    "                edit[xid] = opt\n",
    "            \n",
    "            adresbin = ''.join(edit)\n",
    "            adres = get_val(adresbin)\n",
    "            \n",
    "            adresses.append(adres)\n",
    "        \n",
    "        # write adress to memory\n",
    "        for a in adresses:\n",
    "            memory[a] = int(value)\n",
    "        "
   ]
  },
  {
   "cell_type": "code",
   "execution_count": 275,
   "metadata": {},
   "outputs": [
    {
     "data": {
      "text/plain": [
       "[16, 17, 18, 19, 24, 25, 26, 27]"
      ]
     },
     "execution_count": 275,
     "metadata": {},
     "output_type": "execute_result"
    }
   ],
   "source": [
    "adresses"
   ]
  },
  {
   "cell_type": "code",
   "execution_count": 277,
   "metadata": {},
   "outputs": [
    {
     "data": {
      "text/plain": [
       "dict_keys([26, 27, 58, 59, 16, 17, 18, 19, 24, 25])"
      ]
     },
     "execution_count": 277,
     "metadata": {},
     "output_type": "execute_result"
    }
   ],
   "source": [
    "memory.keys()"
   ]
  },
  {
   "cell_type": "code",
   "execution_count": 285,
   "metadata": {},
   "outputs": [
    {
     "data": {
      "text/plain": [
       "5142195937660"
      ]
     },
     "execution_count": 285,
     "metadata": {},
     "output_type": "execute_result"
    }
   ],
   "source": [
    "sum(list(memory.values()))"
   ]
  },
  {
   "cell_type": "code",
   "execution_count": null,
   "metadata": {},
   "outputs": [],
   "source": []
  },
  {
   "cell_type": "code",
   "execution_count": null,
   "metadata": {},
   "outputs": [],
   "source": []
  },
  {
   "cell_type": "code",
   "execution_count": 212,
   "metadata": {},
   "outputs": [],
   "source": [
    "def get_xids(maskadr):\n",
    "    xids = []\n",
    "    for k, c in enumerate(maskadr):\n",
    "        if c == 'X': \n",
    "            xids.append(k)\n",
    "    \n",
    "    return(xids)"
   ]
  },
  {
   "cell_type": "code",
   "execution_count": 213,
   "metadata": {},
   "outputs": [
    {
     "data": {
      "text/plain": [
       "[30, 35]"
      ]
     },
     "execution_count": 213,
     "metadata": {},
     "output_type": "execute_result"
    }
   ],
   "source": [
    "get_xids(maskadr)"
   ]
  },
  {
   "cell_type": "code",
   "execution_count": 181,
   "metadata": {},
   "outputs": [],
   "source": [
    "testprog2 = [\n",
    "    [\n",
    "        'mask = 000000000000000000000000000000X1001X',\n",
    "        'mem[42] = 100'\n",
    "    ],[\n",
    "        'mask = 00000000000000000000000000000000X0XX',\n",
    "        'mem[26] = 1'\n",
    "    ]\n",
    "]"
   ]
  },
  {
   "cell_type": "code",
   "execution_count": 80,
   "metadata": {},
   "outputs": [],
   "source": [
    "testprog = [[\n",
    "    'mask = XXXXXXXXXXXXXXXXXXXXXXXXXXXXX1XXXX0X',\n",
    "    'mem[8] = 11',\n",
    "    'mem[7] = 101',\n",
    "    'mem[8] = 0'],\n",
    "]"
   ]
  },
  {
   "cell_type": "code",
   "execution_count": null,
   "metadata": {},
   "outputs": [],
   "source": []
  },
  {
   "cell_type": "code",
   "execution_count": null,
   "metadata": {},
   "outputs": [],
   "source": []
  },
  {
   "cell_type": "code",
   "execution_count": null,
   "metadata": {},
   "outputs": [],
   "source": []
  },
  {
   "cell_type": "code",
   "execution_count": null,
   "metadata": {},
   "outputs": [],
   "source": []
  },
  {
   "cell_type": "code",
   "execution_count": 221,
   "metadata": {},
   "outputs": [],
   "source": [
    "def generate_bins(cur, depth):\n",
    "    rvals = []\n",
    "    if depth == 0:\n",
    "        if len(cur) > 1:\n",
    "            return cur\n",
    "        else:\n",
    "            return rvals\n",
    "    else:\n",
    "        for i in cur:\n",
    "            for b in ['0','1']:\n",
    "                rvals.append(i+b)\n",
    "        \n",
    "    return generate_bins(rvals, depth-1)"
   ]
  },
  {
   "cell_type": "code",
   "execution_count": 278,
   "metadata": {},
   "outputs": [
    {
     "data": {
      "text/plain": [
       "['0', '1']"
      ]
     },
     "execution_count": 278,
     "metadata": {},
     "output_type": "execute_result"
    }
   ],
   "source": [
    "x = generate_bins([''], depth=1)\n",
    "x"
   ]
  },
  {
   "cell_type": "code",
   "execution_count": 193,
   "metadata": {},
   "outputs": [
    {
     "name": "stdout",
     "output_type": "stream",
     "text": [
      "00\n",
      "01\n",
      "10\n",
      "11\n"
     ]
    }
   ],
   "source": [
    "for v in x:\n",
    "    print(v)"
   ]
  },
  {
   "cell_type": "code",
   "execution_count": 199,
   "metadata": {},
   "outputs": [
    {
     "data": {
      "text/plain": [
       "['f', 's', 'f', 'a', 's', 'd', 'f']"
      ]
     },
     "execution_count": 199,
     "metadata": {},
     "output_type": "execute_result"
    }
   ],
   "source": [
    "list('fsfasdf')"
   ]
  },
  {
   "cell_type": "code",
   "execution_count": null,
   "metadata": {},
   "outputs": [],
   "source": []
  }
 ],
 "metadata": {
  "kernelspec": {
   "display_name": "Python 3",
   "language": "python",
   "name": "python3"
  },
  "language_info": {
   "codemirror_mode": {
    "name": "ipython",
    "version": 3
   },
   "file_extension": ".py",
   "mimetype": "text/x-python",
   "name": "python",
   "nbconvert_exporter": "python",
   "pygments_lexer": "ipython3",
   "version": "3.7.4"
  }
 },
 "nbformat": 4,
 "nbformat_minor": 4
}
